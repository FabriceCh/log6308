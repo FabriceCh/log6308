{
 "cells": [
  {
   "cell_type": "markdown",
   "metadata": {},
   "source": [
    "# TP1\n"
   ]
  },
  {
   "cell_type": "markdown",
   "metadata": {},
   "source": [
    "## 1: Quelle est la moyenne des votes par profession (\"job\") et par âge? (2 points)"
   ]
  },
  {
   "cell_type": "code",
   "execution_count": null,
   "metadata": {},
   "outputs": [],
   "source": [
    "### Lecture des données\n",
    "user <- read.csv(file='u.user.csv', sep='|', header=T)\n",
    "item <- read.csv(file='u.item.csv', sep='|', header=T)\n",
    "data <- read.csv(file='u.data.csv', sep='|', header=T)"
   ]
  },
  {
   "cell_type": "code",
   "execution_count": null,
   "metadata": {},
   "outputs": [],
   "source": [
    "# merge des dataframes en un seul\n",
    "colnames(user)[colnames(user)==\"id\"] <- \"user.id\"\n",
    "colnames(item)[colnames(item)==\"movie.id\"] <- \"item.id\"\n",
    "\n",
    "allData <- merge(x=data,y=user,by=\"user.id\",all=TRUE)\n",
    "allData <- merge(x=allData,y=item,by=\"item.id\",all=TRUE)\n",
    "allData"
   ]
  },
  {
   "cell_type": "code",
   "execution_count": null,
   "metadata": {},
   "outputs": [],
   "source": [
    "aggregate(allData$rating, list(allData$job), mean)"
   ]
  },
  {
   "cell_type": "code",
   "execution_count": null,
   "metadata": {},
   "outputs": [],
   "source": [
    "age_mean = aggregate(allData$rating, list(allData$age), mean)\n",
    "plot(age_mean[,1], age_mean[,2], xlab = \"age\", \n",
    "     ylab = \"rating\", main=\"nuage de points\")\n"
   ]
  },
  {
   "cell_type": "markdown",
   "metadata": {},
   "source": [
    "## 2: Quels sont les 10 films les plus similaires à \"Star Trek V: The Final Frontier (1989)\" selon respectivement la mesure du cosinus et de la corrélation avec la matrice de votes.  (3 points)"
   ]
  },
  {
   "cell_type": "code",
   "execution_count": null,
   "metadata": {},
   "outputs": [],
   "source": [
    "# Voir les slides pour le principe de corrélation avec cosinus. \n",
    "# Dans les slides, on compare des utilisateurs. \n",
    "# Pour cette question, on a juste à transposer la matrice (pour faire le calcul sur les items au lieu des utilisateurs)\n",
    "# Ensuite, on sort les items (films) selon les poids w calculés et on prend les 10 poids les plus grands.\n",
    "\n",
    "library(Matrix)\n",
    "\t    m <- sparseMatrix(u.data[,1],u.data[,2],x=u.data[,3])\n",
    "\t    rownames(m) <- paste('u', 1:nrow(m), sep='')\n",
    "\t    colnames(m) <- paste('i', 1:ncol(m), sep='')\n",
    "m"
   ]
  },
  {
   "cell_type": "code",
   "execution_count": null,
   "metadata": {},
   "outputs": [],
   "source": [
    "# compute all Vi for each movie\n"
   ]
  },
  {
   "cell_type": "code",
   "execution_count": null,
   "metadata": {},
   "outputs": [],
   "source": [
    "# compute all Wcos for each movie\n"
   ]
  },
  {
   "cell_type": "code",
   "execution_count": null,
   "metadata": {},
   "outputs": [],
   "source": [
    "# sort movies by Wcos and get the first 10\n"
   ]
  },
  {
   "cell_type": "markdown",
   "metadata": {},
   "source": [
    "## 3: Utilisez une approche item-item pour calculer le vote au film \"Star Trek V: The Final Frontier (1989)\" des utilisateurs qui n'ont pas de vote pour celui-ci. Prenez les 20 voisins les plus rapprochés selon la distance euclidienne et utilisez les cosinus comme poids. Si aucun vote commun existe, alors la valeur prédite est fixée à NA. (3 points)\n"
   ]
  },
  {
   "cell_type": "markdown",
   "metadata": {},
   "source": [
    "## 4: Calculez l'erreur quadratique moyenne des prédiction de l'approche item-item à la question précédente en la comparant aux valeurs observées. (2 points)\n"
   ]
  },
  {
   "cell_type": "markdown",
   "metadata": {},
   "source": [
    "## 5: Utilisez une approche par agglomération pour prédire les votes et calculez l'erreur quadratique moyenne. (4 points)"
   ]
  },
  {
   "cell_type": "markdown",
   "metadata": {},
   "source": [
    "## 6: Je suis un nouvel utilisateur. Vous connaissez ma profession, mon sexe et mon âge. Développez un algorithme bayésien pour recommander 10 films sur la base de ces trois catégories. (4 points)"
   ]
  },
  {
   "cell_type": "markdown",
   "metadata": {},
   "source": [
    "## 7: Reprenez les calculs des questions 3, 4 et 5 avec une validation croisée. (3 points)"
   ]
  },
  {
   "cell_type": "code",
   "execution_count": null,
   "metadata": {},
   "outputs": [],
   "source": []
  }
 ],
 "metadata": {
  "kernelspec": {
   "display_name": "R",
   "language": "R",
   "name": "ir"
  },
  "language_info": {
   "codemirror_mode": "r",
   "file_extension": ".r",
   "mimetype": "text/x-r-source",
   "name": "R",
   "pygments_lexer": "r",
   "version": "3.4.4"
  }
 },
 "nbformat": 4,
 "nbformat_minor": 2
}
