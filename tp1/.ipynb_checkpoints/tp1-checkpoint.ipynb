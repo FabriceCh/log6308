{
 "cells": [
  {
   "cell_type": "markdown",
   "metadata": {},
   "source": [
    "# TP1\n"
   ]
  },
  {
   "cell_type": "markdown",
   "metadata": {},
   "source": [
    "## 1: Quelle est la moyenne des votes par profession (\"job\") et par âge? (2 points)"
   ]
  },
  {
   "cell_type": "code",
   "execution_count": null,
   "metadata": {},
   "outputs": [],
   "source": [
    "### Lecture des données\n",
    "user <- read.csv(file='u.user.csv', sep='|', header=T)\n",
    "item <- read.csv(file='u.item.csv', sep='|', header=T)\n",
    "data <- read.csv(file='u.data.csv', sep='|', header=T)"
   ]
  },
  {
   "cell_type": "code",
   "execution_count": null,
   "metadata": {},
   "outputs": [],
   "source": [
    "# merge des dataframes en un seul\n",
    "colnames(user)[colnames(user)==\"id\"] <- \"user.id\"\n",
    "colnames(item)[colnames(item)==\"movie.id\"] <- \"item.id\"\n",
    "\n",
    "allData <- merge(x=data,y=user,by=\"user.id\",all=TRUE)\n",
    "allData <- merge(x=allData,y=item,by=\"item.id\",all=TRUE)\n",
    "allData"
   ]
  },
  {
   "cell_type": "code",
   "execution_count": null,
   "metadata": {},
   "outputs": [],
   "source": [
    "profession_mean = aggregate(allData$rating, list(allData$job), mean)\n",
    "\n",
    "#hist(profession_mean)\n",
    "#profession_mean"
   ]
  },
  {
   "cell_type": "code",
   "execution_count": null,
   "metadata": {},
   "outputs": [],
   "source": [
    "barplot(profession_mean$x,names.arg=profession_mean$Group.1,xlab=\"\",ylab=\"Rating\",\n",
    "main=\"Moyenne des ratings selon la profession\", las=2)"
   ]
  },
  {
   "cell_type": "code",
   "execution_count": null,
   "metadata": {},
   "outputs": [],
   "source": [
    "age_mean = aggregate(allData$rating, list(allData$age), mean)\n",
    "plot(age_mean[,1], age_mean[,2], xlab = \"age\", \n",
    "     ylab = \"rating\", main=\"Moyennes des ratings selon l'âge\")\n"
   ]
  },
  {
   "cell_type": "markdown",
   "metadata": {},
   "source": [
    "## 2: Quels sont les 10 films les plus similaires à \"Star Trek V: The Final Frontier (1989)\" selon respectivement la mesure du cosinus et de la corrélation avec la matrice de votes.  (3 points)"
   ]
  },
  {
   "cell_type": "code",
   "execution_count": null,
   "metadata": {},
   "outputs": [],
   "source": [
    "# Voir les slides pour le principe de corrélation avec cosinus. \n",
    "# Dans les slides, on compare des utilisateurs. \n",
    "# Pour cette question, on a juste à transposer la matrice (pour faire le calcul sur les items au lieu des utilisateurs)\n",
    "# Ensuite, on sort les items (films) selon les poids w calculés et on prend les 10 poids les plus grands.\n",
    "\n",
    "library(Matrix)\n",
    "\t    m <- sparseMatrix(data[,1],data[,2],x=data[,3])\n",
    "\t    rownames(m) <- paste('u', 1:nrow(m), sep='')\n",
    "\t    colnames(m) <- paste('i', 1:ncol(m), sep='')\n"
   ]
  },
  {
   "cell_type": "code",
   "execution_count": null,
   "metadata": {},
   "outputs": [],
   "source": [
    "# transpose matrix to have each line representing a movie\n",
    "mt = t(m)\n",
    "stid <- 450 #le id de star trek \n",
    "strow = t(mt[stid,])"
   ]
  },
  {
   "cell_type": "code",
   "execution_count": null,
   "metadata": {},
   "outputs": [],
   "source": [
    "# compute all Wcos for each movie for star trek\n",
    "\n",
    "cosinus.vm <- function(v,mt) { n <- sqrt(colSums(mt^2)); (v %*% mt)/(n * sqrt(sum(v^2))) }\n",
    "all.cos = cosinus.vm(strow, m)"
   ]
  },
  {
   "cell_type": "code",
   "execution_count": null,
   "metadata": {},
   "outputs": [],
   "source": [
    "# sort movies by Wcos and get the first 10 (or 11 because star treck itself souldnt count)\n",
    "all.cos = all.cos[,order(-all.cos[1,]),drop=F];\n",
    "all.cos[,1:11, drop=F]"
   ]
  },
  {
   "cell_type": "code",
   "execution_count": null,
   "metadata": {},
   "outputs": [],
   "source": [
    "# Les 10 films les plus semblables à Star Trek V: The Final Frontier (1989) sont donc:\n",
    "#item[item[, \"item.id\"] == 449,2]\n",
    "item[item[, \"item.id\"] == 449,2]\n",
    "item[item[, \"item.id\"] == 227,2]\n",
    "item[item[, \"item.id\"] == 229,2]\n",
    "item[item[, \"item.id\"] == 230,2]\n",
    "item[item[, \"item.id\"] == 228,2]\n",
    "item[item[, \"item.id\"] == 62,2]\n",
    "item[item[, \"item.id\"] == 380,2]\n",
    "item[item[, \"item.id\"] == 226,2]\n",
    "item[item[, \"item.id\"] == 636,2]\n",
    "item[item[, \"item.id\"] == 679,2]"
   ]
  },
  {
   "cell_type": "code",
   "execution_count": null,
   "metadata": {},
   "outputs": [],
   "source": [
    "# Correlation\n",
    "# compute all Wcor for each movie for star trek\n",
    "\n",
    "#correlation.vm <- function(v,mt) { n <- sqrt(colSums(mt^2)); (v %*% mt)/(n * sqrt(sum(v^2))) }\n",
    "#cor(as.numeric(m), as.numeric(strow), use='pairwise.complete.obs')\n",
    "#mm <- t(as.numeric(m))\n",
    "cor.matrix = cor(as.matrix(m), use='pairwise.complete.obs')\n"
   ]
  },
  {
   "cell_type": "code",
   "execution_count": null,
   "metadata": {},
   "outputs": [],
   "source": [
    "w_list <- cor.matrix[order(cor.matrix[,450], decreasing = TRUE),]\n",
    "w_list"
   ]
  },
  {
   "cell_type": "code",
   "execution_count": null,
   "metadata": {},
   "outputs": [],
   "source": [
    "item[item[, \"item.id\"] == 449,2]\n",
    "item[item[, \"item.id\"] == 227,2]\n",
    "item[item[, \"item.id\"] == 229,2]\n",
    "item[item[, \"item.id\"] == 230,2]\n",
    "item[item[, \"item.id\"] == 228,2]\n",
    "item[item[, \"item.id\"] == 62,2]\n",
    "item[item[, \"item.id\"] == 380,2]\n",
    "item[item[, \"item.id\"] == 226,2]\n",
    "item[item[, \"item.id\"] == 636,2]\n",
    "item[item[, \"item.id\"] == 679,2]"
   ]
  },
  {
   "cell_type": "markdown",
   "metadata": {},
   "source": [
    "## 3: Utilisez une approche item-item pour calculer le vote au film \"Star Trek V: The Final Frontier (1989)\" des utilisateurs qui n'ont pas de vote pour celui-ci. Prenez les 20 voisins les plus rapprochés selon la distance euclidienne et utilisez les cosinus comme poids. Si aucun vote commun existe, alors la valeur prédite est fixée à NA. (3 points)\n"
   ]
  },
  {
   "cell_type": "markdown",
   "metadata": {},
   "source": [
    "## 4: Calculez l'erreur quadratique moyenne des prédiction de l'approche item-item à la question précédente en la comparant aux valeurs observées. (2 points)\n"
   ]
  },
  {
   "cell_type": "markdown",
   "metadata": {},
   "source": [
    "## 5: Utilisez une approche par agglomération pour prédire les votes et calculez l'erreur quadratique moyenne. (4 points)"
   ]
  },
  {
   "cell_type": "code",
   "execution_count": null,
   "metadata": {},
   "outputs": [],
   "source": [
    "mt"
   ]
  },
  {
   "cell_type": "code",
   "execution_count": null,
   "metadata": {},
   "outputs": [],
   "source": [
    "# nombre d'entrées uniques (le maximum de clusters possibles)\n",
    "dim(unique(as.matrix(mt)))"
   ]
  },
  {
   "cell_type": "code",
   "execution_count": null,
   "metadata": {},
   "outputs": [],
   "source": [
    "clusters = kmeans(mt, 5)\n",
    "str(clusters)"
   ]
  },
  {
   "cell_type": "markdown",
   "metadata": {},
   "source": [
    "L'attribut tot.withinss est la valeur d'intérêt pour calculer l'erreur quadratique.\n",
    "\n",
    "\"tot.withinss: Total within-cluster sum of squares, i.e. sum(withinss).\"\n",
    "tiré de https://stat.ethz.ch/R-manual/R-devel/library/stats/html/kmeans.html\n",
    "\n",
    "Cette valeur calculée directement de la fonction kmeans dans R indique la somme des carrés des différences entre chaque valeur d'une entrée observée et chaque valeur de la prédiction (le centroïde du groupe auquel l'entrée a été assignée). Ainsi, pour obtenir l'erreur quadratique, il suffit de diviser cette valeur par le nombre d'entrées.\n",
    "\n",
    "tot.withinss = $\\sum(M_{obs} - M_{pred})²$\n",
    "\n",
    "$Erreur\\ quadratique = \\frac{tot.withinss}{n} = \\frac{\\sum(M_{obs} - M_{pred})²}{n}$"
   ]
  },
  {
   "cell_type": "markdown",
   "metadata": {},
   "source": [
    "Ci-dessous, plusieurs essais de clustering avec kmeans sont tentés, avec différentes quantités de clusters. Chaque essai est effectué sur la totalité des données, on s'attend alors à ce que l'erreur quadratique descende constamment selon le nombre de clusters qui augmente, et que cette erreur soit à 0 lorsque le nombre de clusters déterminé est le même que le nombre d'entrées (uniques), puisque chaque entrée aura comme prédiction ses propres valeurs. Nous remarquons effectivement que l'erreur est nulle lorsque le nombre de clusters est égal au nombre d'entrées (ou au nombre d'entrées uniques)."
   ]
  },
  {
   "cell_type": "code",
   "execution_count": null,
   "metadata": {},
   "outputs": [],
   "source": [
    "clusters = kmeans(mt, 10)\n",
    "clusters$tot.withinss / 1682"
   ]
  },
  {
   "cell_type": "code",
   "execution_count": null,
   "metadata": {},
   "outputs": [],
   "source": [
    "clusters = kmeans(mt, 15)\n",
    "clusters$tot.withinss / 1682"
   ]
  },
  {
   "cell_type": "code",
   "execution_count": null,
   "metadata": {},
   "outputs": [],
   "source": [
    "clusters = kmeans(mt, 20)\n",
    "clusters$tot.withinss / 1682"
   ]
  },
  {
   "cell_type": "code",
   "execution_count": null,
   "metadata": {},
   "outputs": [],
   "source": [
    "clusters = kmeans(mt, 25)\n",
    "clusters$tot.withinss / 1682"
   ]
  },
  {
   "cell_type": "code",
   "execution_count": null,
   "metadata": {},
   "outputs": [],
   "source": [
    "clusters = kmeans(mt, 30)\n",
    "clusters$tot.withinss / 1682"
   ]
  },
  {
   "cell_type": "code",
   "execution_count": null,
   "metadata": {},
   "outputs": [],
   "source": [
    "clusters = kmeans(mt, 35)\n",
    "clusters$tot.withinss / 1682"
   ]
  },
  {
   "cell_type": "code",
   "execution_count": null,
   "metadata": {},
   "outputs": [],
   "source": [
    "clusters = kmeans(mt, 100)\n",
    "clusters$tot.withinss / 1682"
   ]
  },
  {
   "cell_type": "code",
   "execution_count": null,
   "metadata": {},
   "outputs": [],
   "source": [
    "clusters = kmeans(mt, 1000)\n",
    "clusters$tot.withinss / 1682"
   ]
  },
  {
   "cell_type": "code",
   "execution_count": null,
   "metadata": {},
   "outputs": [],
   "source": [
    "clusters = kmeans(mt, 1612)\n",
    "clusters$tot.withinss / 1682"
   ]
  },
  {
   "cell_type": "code",
   "execution_count": null,
   "metadata": {},
   "outputs": [],
   "source": []
  },
  {
   "cell_type": "markdown",
   "metadata": {},
   "source": [
    "## 6: Je suis un nouvel utilisateur. Vous connaissez ma profession, mon sexe et mon âge. Développez un algorithme bayésien pour recommander 10 films sur la base de ces trois catégories. (4 points)"
   ]
  },
  {
   "cell_type": "code",
   "execution_count": null,
   "metadata": {},
   "outputs": [],
   "source": []
  },
  {
   "cell_type": "markdown",
   "metadata": {},
   "source": [
    "## 7: Reprenez les calculs des questions 5 avec une validation croisée. (3 points)"
   ]
  },
  {
   "cell_type": "markdown",
   "metadata": {},
   "source": [
    "https://stats.stackexchange.com/questions/61090/how-to-split-a-data-set-to-do-10-fold-cross-validation\n"
   ]
  },
  {
   "cell_type": "code",
   "execution_count": null,
   "metadata": {},
   "outputs": [],
   "source": [
    "\n"
   ]
  }
 ],
 "metadata": {
  "kernelspec": {
   "display_name": "R",
   "language": "R",
   "name": "ir"
  },
  "language_info": {
   "codemirror_mode": "r",
   "file_extension": ".r",
   "mimetype": "text/x-r-source",
   "name": "R",
   "pygments_lexer": "r",
   "version": "3.4.4"
  }
 },
 "nbformat": 4,
 "nbformat_minor": 2
}
