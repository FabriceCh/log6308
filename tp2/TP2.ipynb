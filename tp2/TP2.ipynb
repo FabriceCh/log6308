{
 "cells": [
  {
   "cell_type": "markdown",
   "metadata": {},
   "source": [
    "# Q1: Supposons que je lis le document numéro '422908' dans ma matrice. Appliquez l'algorithme Page rank pour déterminer les autres lectures recommandées. En plus de la simple recommandation des références de '422908', appliquez au moins une variation de cette approche de base, comme celle exposée en classe qui consiste à étendre le sous-ensemble S (références) à S' (références des références). Expliquez la démarche que vous avez prise."
   ]
  },
  {
   "cell_type": "code",
   "execution_count": null,
   "metadata": {},
   "outputs": [],
   "source": [
    "import pandas as pd\n",
    "import networkx as nx\n",
    "from itertools import islice"
   ]
  },
  {
   "cell_type": "code",
   "execution_count": null,
   "metadata": {},
   "outputs": [],
   "source": [
    "df = pd.read_csv(\"citeseer.csv\", index_col=0)\n",
    "df.columns = [int(col[1:]) for col in df.columns]\n",
    "df.head()"
   ]
  },
  {
   "cell_type": "code",
   "execution_count": null,
   "metadata": {},
   "outputs": [],
   "source": [
    "G = nx.from_pandas_adjacency(df, create_using=nx.DiGraph())\n",
    "nx.info(G)"
   ]
  },
  {
   "cell_type": "code",
   "execution_count": null,
   "metadata": {},
   "outputs": [],
   "source": [
    "pr = nx.pagerank_numpy(G)\n",
    "#print some to make sure they make sense\n",
    "list(islice(pr.items(), 7))"
   ]
  },
  {
   "cell_type": "code",
   "execution_count": null,
   "metadata": {},
   "outputs": [],
   "source": [
    "def get_top_recommendations(page_ranks, graph, article, n_recommendations=10, max_deepness=1):\n",
    "    possible_article_recommendations = []\n",
    "    last_discovered_nodes = [article]\n",
    "    deepness_reached = 0\n",
    "    while deepness_reached <= max_deepness:\n",
    "        new_discovered_nodes = []\n",
    "        for discovered_node in last_discovered_nodes:\n",
    "            for neighbor in G.neighbors(discovered_node):\n",
    "                new_discovered_nodes.append(neighbor)\n",
    "                if neighbor not in possible_article_recommendations and neighbor != article:\n",
    "                    possible_article_recommendations.append(neighbor)\n",
    "        last_discovered_nodes = new_discovered_nodes\n",
    "        deepness_reached += 1\n",
    "    pr_neighbors = {article_key:page_ranks[article_key] for article_key in possible_article_recommendations}\n",
    "    return sorted(pr_neighbors, key=pr_neighbors.get, reverse=True)[n_recommendations:] \n",
    "\n",
    "\n",
    "document = 422908\n",
    "print(get_top_recommendations(pr, G, document))"
   ]
  },
  {
   "cell_type": "code",
   "execution_count": null,
   "metadata": {},
   "outputs": [],
   "source": [
    "x = {1: 2, 3: 4, 4: 3, 2: 1, 0: 0}\n",
    "sorted_x = sorted(x, key=x.get, reverse=True)\n",
    "sorted_x"
   ]
  },
  {
   "cell_type": "code",
   "execution_count": null,
   "metadata": {},
   "outputs": [],
   "source": [
    "# la fonction pagerank de networkx applique pagerank en ignorant la direction des arêtes. \n",
    "# https://networkx.github.io/documentation/networkx-1.10/reference/generated/networkx.algorithms.link_analysis.pagerank_alg.pagerank.html\n",
    "pr = nx.pagerank(G)\n",
    "pr"
   ]
  },
  {
   "cell_type": "code",
   "execution_count": null,
   "metadata": {},
   "outputs": [],
   "source": [
    "for n in G.neighbors(422908): #S\n",
    "    for m in G.neighbors(n):  #S'\n",
    "        print(str(n) + '->' + str(m))"
   ]
  },
  {
   "cell_type": "code",
   "execution_count": null,
   "metadata": {},
   "outputs": [],
   "source": []
  },
  {
   "cell_type": "markdown",
   "metadata": {},
   "source": [
    "# Q2: Comparez les résultats obtenus avec une approche basée sur la similarité des articles dans un espace vectoriel, à l'instar du calcul de similarité de l'approche item-item. La mesure de la similarité et la façon de l'utiliser pour estimer la pertinence d'articles similaires est laissé à votre discrétion."
   ]
  },
  {
   "cell_type": "code",
   "execution_count": null,
   "metadata": {},
   "outputs": [],
   "source": []
  },
  {
   "cell_type": "markdown",
   "metadata": {},
   "source": [
    "# Q3:  Utilisez une validation croisée pour évaluer la performance de l'approche item-item. Vous pouvez vous inspirer de l'approche utilisée dans l'article suivant pour la méthodologie à adopter :\n",
    "McNee, S. M., Albert, I., Cosley, D., Gopalkrishnan, P., Lam, S. K., Rashid, A., Konstan, J. A., and Riedl, J. 2002. On the recommending of citations for research papers. In Proceedings of the 2002 ACM Conference on Computer Supported Cooperative Work (New Orleans, Louisiana, USA, November 16 - 20, 2002). CSCW '02. ACM, New York, NY, 116-125. DOI=http://doi.acm.org/10.1145/587078.587096\n",
    "# Cependant, vous pouvez aussi adapter cette méthodologie ou en définir une différente. Par exemple, les \"observations\" que l'on peut vraisemblablement considérer comme valables pour les tests sont les références d'ordre 1 et 2 de la matrice d'adjacence et de sa transposée. Compte tenu du faible nombre de références, il est préférable d'adopter une approche \"leave one out\", où une seule \"observation\" est retirée du corpus à la fois, et où l'on compare une mesure du degré de confiance à prédire cette observation."
   ]
  },
  {
   "cell_type": "code",
   "execution_count": null,
   "metadata": {},
   "outputs": [],
   "source": []
  }
 ],
 "metadata": {
  "kernelspec": {
   "display_name": "Python 3",
   "language": "python",
   "name": "python3"
  },
  "language_info": {
   "codemirror_mode": {
    "name": "ipython",
    "version": 3
   },
   "file_extension": ".py",
   "mimetype": "text/x-python",
   "name": "python",
   "nbconvert_exporter": "python",
   "pygments_lexer": "ipython3",
   "version": "3.7.4"
  }
 },
 "nbformat": 4,
 "nbformat_minor": 2
}
