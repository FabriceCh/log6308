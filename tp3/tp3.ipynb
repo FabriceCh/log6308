{
 "cells": [
  {
   "cell_type": "markdown",
   "metadata": {},
   "source": [
    "# TP3\n",
    "### Équipe 10\n",
    "### Fabrice Charbonneau (1798064)\n",
    "### Sanou Armel Kenzanga Landry (1976804)\n",
    "\n",
    "\n",
    "1. créer une matrice termes-documents; pour diminuer la taille du vocabulaire, utiliser un stemmer et éliminer les chiffres et la ponctuation;\n",
    "2. transformer les fréquences brutes par les valeurs TF-IDF;\n",
    "3. effectuer une réduction de dimensions avec SVD; utilisez 50 dimensions latentes.\n",
    "\n"
   ]
  },
  {
   "cell_type": "markdown",
   "metadata": {},
   "source": [
    "D'abord, lire les fichiers et les ajouter à un dataframe."
   ]
  },
  {
   "cell_type": "code",
   "execution_count": 1,
   "metadata": {},
   "outputs": [],
   "source": [
    "import pandas as pd\n",
    "import numpy as np\n",
    "import matplotlib.pyplot as plt\n",
    "from nltk.corpus import PlaintextCorpusReader\n",
    "from os import path\n",
    "\n",
    "#can be removed\n",
    "from jupyterthemes import jtplot\n",
    "jtplot.style()"
   ]
  },
  {
   "cell_type": "code",
   "execution_count": 2,
   "metadata": {},
   "outputs": [],
   "source": [
    "if not path.exists(\"raw_data.csv\"):\n",
    "    i = 0\n",
    "    df = pd.DataFrame(columns=['uni', 'course', 'text'])\n",
    "    class_data = 'Descriptions' \n",
    "    corpus = PlaintextCorpusReader(class_data, '.*txt', encoding='latin-1')\n",
    "    for file in corpus.fileids():\n",
    "        uni_str = file.split(\"/\")[0]\n",
    "        new_corpus = PlaintextCorpusReader(class_data, file, encoding='latin-1')\n",
    "        df.loc[i] = [uni_str, file.split(\"/\")[1].split(\".\")[0], new_corpus.raw()]\n",
    "        i += 1\n",
    "        print(i,  end='\\r')\n",
    "    df.to_csv(\"raw_data.csv\", index=False)"
   ]
  },
  {
   "cell_type": "code",
   "execution_count": 3,
   "metadata": {},
   "outputs": [],
   "source": [
    "df = pd.read_csv(\"raw_data.csv\")"
   ]
  },
  {
   "cell_type": "markdown",
   "metadata": {},
   "source": [
    "Détection du langage des textes avec https://pypi.org/project/langdetect/\n",
    "\n",
    "Nous n'allons conserver que les cours ayant comme langage détecté le français."
   ]
  },
  {
   "cell_type": "code",
   "execution_count": 4,
   "metadata": {},
   "outputs": [],
   "source": [
    "from langdetect import detect\n",
    "\n",
    "if not path.exists(\"fr_only.csv\"):\n",
    "    df[\"lang\"] = df.apply( lambda row: detect(row[\"text\"]), axis=1)\n",
    "    df = df[df[\"lang\"] == \"fr\"]\n",
    "    df.to_csv(\"fr_only.csv\", index=False)\n",
    "df = pd.read_csv(\"fr_only.csv\")"
   ]
  },
  {
   "cell_type": "code",
   "execution_count": 5,
   "metadata": {},
   "outputs": [],
   "source": [
    "df = df.drop(columns=\"lang\")"
   ]
  },
  {
   "cell_type": "code",
   "execution_count": 6,
   "metadata": {},
   "outputs": [
    {
     "data": {
      "text/html": [
       "<div>\n",
       "<style scoped>\n",
       "    .dataframe tbody tr th:only-of-type {\n",
       "        vertical-align: middle;\n",
       "    }\n",
       "\n",
       "    .dataframe tbody tr th {\n",
       "        vertical-align: top;\n",
       "    }\n",
       "\n",
       "    .dataframe thead th {\n",
       "        text-align: right;\n",
       "    }\n",
       "</style>\n",
       "<table border=\"1\" class=\"dataframe\">\n",
       "  <thead>\n",
       "    <tr style=\"text-align: right;\">\n",
       "      <th></th>\n",
       "      <th>Unnamed: 0</th>\n",
       "      <th>uni</th>\n",
       "      <th>course</th>\n",
       "      <th>text</th>\n",
       "    </tr>\n",
       "  </thead>\n",
       "  <tbody>\n",
       "    <tr>\n",
       "      <td>0</td>\n",
       "      <td>0</td>\n",
       "      <td>HEC</td>\n",
       "      <td>1-404-96</td>\n",
       "      <td>TitreCours: Sociologie de l\\nDescriptionCours:...</td>\n",
       "    </tr>\n",
       "    <tr>\n",
       "      <td>1</td>\n",
       "      <td>1</td>\n",
       "      <td>HEC</td>\n",
       "      <td>1-407-00</td>\n",
       "      <td>TitreCours: Management\\nDescriptionCours: Ce c...</td>\n",
       "    </tr>\n",
       "    <tr>\n",
       "      <td>2</td>\n",
       "      <td>3</td>\n",
       "      <td>HEC</td>\n",
       "      <td>1-611-09</td>\n",
       "      <td>TitreCours: Modelisation et optimisation\\nDesc...</td>\n",
       "    </tr>\n",
       "    <tr>\n",
       "      <td>3</td>\n",
       "      <td>4</td>\n",
       "      <td>HEC</td>\n",
       "      <td>1-611-96</td>\n",
       "      <td>TitreCours: Modelisation et optimisation\\nDesc...</td>\n",
       "    </tr>\n",
       "    <tr>\n",
       "      <td>4</td>\n",
       "      <td>5</td>\n",
       "      <td>HEC</td>\n",
       "      <td>1-612-96</td>\n",
       "      <td>TitreCours: Mathematiques financieres\\nDescrip...</td>\n",
       "    </tr>\n",
       "    <tr>\n",
       "      <td>...</td>\n",
       "      <td>...</td>\n",
       "      <td>...</td>\n",
       "      <td>...</td>\n",
       "      <td>...</td>\n",
       "    </tr>\n",
       "    <tr>\n",
       "      <td>16050</td>\n",
       "      <td>16330</td>\n",
       "      <td>UdM</td>\n",
       "      <td>VNM1060H</td>\n",
       "      <td>TitreCours: Vietnamien elementaire 2\\nDescript...</td>\n",
       "    </tr>\n",
       "    <tr>\n",
       "      <td>16051</td>\n",
       "      <td>16331</td>\n",
       "      <td>UdM</td>\n",
       "      <td>VNM2050</td>\n",
       "      <td>TitreCours: Vietnamien intermediaire 1\\nDescri...</td>\n",
       "    </tr>\n",
       "    <tr>\n",
       "      <td>16052</td>\n",
       "      <td>16332</td>\n",
       "      <td>UdM</td>\n",
       "      <td>VNM2050H</td>\n",
       "      <td>TitreCours: Vietnamien intermediaire 1\\nDescri...</td>\n",
       "    </tr>\n",
       "    <tr>\n",
       "      <td>16053</td>\n",
       "      <td>16333</td>\n",
       "      <td>UdM</td>\n",
       "      <td>VNM2060</td>\n",
       "      <td>TitreCours: Vietnamien intermediaire 2\\nDescri...</td>\n",
       "    </tr>\n",
       "    <tr>\n",
       "      <td>16054</td>\n",
       "      <td>16334</td>\n",
       "      <td>UdM</td>\n",
       "      <td>VNM2060H</td>\n",
       "      <td>TitreCours: Vietnamien intermediaire 2\\nDescri...</td>\n",
       "    </tr>\n",
       "  </tbody>\n",
       "</table>\n",
       "<p>16055 rows × 4 columns</p>\n",
       "</div>"
      ],
      "text/plain": [
       "       Unnamed: 0  uni    course  \\\n",
       "0               0  HEC  1-404-96   \n",
       "1               1  HEC  1-407-00   \n",
       "2               3  HEC  1-611-09   \n",
       "3               4  HEC  1-611-96   \n",
       "4               5  HEC  1-612-96   \n",
       "...           ...  ...       ...   \n",
       "16050       16330  UdM  VNM1060H   \n",
       "16051       16331  UdM   VNM2050   \n",
       "16052       16332  UdM  VNM2050H   \n",
       "16053       16333  UdM   VNM2060   \n",
       "16054       16334  UdM  VNM2060H   \n",
       "\n",
       "                                                    text  \n",
       "0      TitreCours: Sociologie de l\\nDescriptionCours:...  \n",
       "1      TitreCours: Management\\nDescriptionCours: Ce c...  \n",
       "2      TitreCours: Modelisation et optimisation\\nDesc...  \n",
       "3      TitreCours: Modelisation et optimisation\\nDesc...  \n",
       "4      TitreCours: Mathematiques financieres\\nDescrip...  \n",
       "...                                                  ...  \n",
       "16050  TitreCours: Vietnamien elementaire 2\\nDescript...  \n",
       "16051  TitreCours: Vietnamien intermediaire 1\\nDescri...  \n",
       "16052  TitreCours: Vietnamien intermediaire 1\\nDescri...  \n",
       "16053  TitreCours: Vietnamien intermediaire 2\\nDescri...  \n",
       "16054  TitreCours: Vietnamien intermediaire 2\\nDescri...  \n",
       "\n",
       "[16055 rows x 4 columns]"
      ]
     },
     "execution_count": 6,
     "metadata": {},
     "output_type": "execute_result"
    }
   ],
   "source": [
    "df"
   ]
  },
  {
   "cell_type": "markdown",
   "metadata": {},
   "source": [
    "Utilisation d'un Tokenizer pour séparer les strings en mots.\n",
    "\n",
    "TweetTokenizer de nltk est à la base fait pour les tweets, donc traite le texte pouvant contenir des hashtags et autres particularité des tweets. Dans notre cas, ça ne change pas grand chose, il fera facilement le travail même le texte n'est pas des tweets."
   ]
  },
  {
   "cell_type": "code",
   "execution_count": 7,
   "metadata": {},
   "outputs": [],
   "source": [
    "from nltk.tokenize import TweetTokenizer\n",
    "tknzr = TweetTokenizer()\n",
    "tokens = df[\"text\"].apply(lambda x: tknzr.tokenize(x)).values"
   ]
  },
  {
   "cell_type": "markdown",
   "metadata": {},
   "source": [
    "Stemmer afin d'éliminer les tokens inutles"
   ]
  },
  {
   "cell_type": "code",
   "execution_count": 8,
   "metadata": {},
   "outputs": [],
   "source": [
    "from nltk.stem.snowball import SnowballStemmer\n",
    "import string\n",
    "from nltk.corpus import stopwords"
   ]
  },
  {
   "cell_type": "code",
   "execution_count": 9,
   "metadata": {},
   "outputs": [
    {
     "data": {
      "text/plain": [
       "['yeux', 'sociolog', '.', 'sour']"
      ]
     },
     "execution_count": 9,
     "metadata": {},
     "output_type": "execute_result"
    }
   ],
   "source": [
    "st = SnowballStemmer(\"french\", ignore_stopwords=True)\n",
    "[st.stem(word) for word in [\"Yeux\", \"Sociologie\", \".\", \"souris\"]]"
   ]
  },
  {
   "cell_type": "code",
   "execution_count": 10,
   "metadata": {},
   "outputs": [],
   "source": [
    "class Preprocessor:\n",
    "    def __init__(self, stem=True, punctuation=True, digit=True):\n",
    "        self.st = SnowballStemmer(\"french\", ignore_stopwords=True)\n",
    "        self.punctuations = set(string.punctuation)\n",
    "        self.stem = stem\n",
    "        self.punctuation = punctuation\n",
    "        self.digit = digit\n",
    "    \n",
    "    def raw_preprocess(self, token_list):\n",
    "        new_token_list = []\n",
    "        for token in token_list:\n",
    "            is_token_valid = True\n",
    "            token = token.lower()\n",
    "            \n",
    "            # stemming\n",
    "            if self.stem:\n",
    "                token = self.st.stem(token)\n",
    "\n",
    "            # punctuation filtering\n",
    "            if self.punctuation and token in self.punctuations:\n",
    "                is_token_valid = False\n",
    "\n",
    "            # digit filtering\n",
    "            elif self.digit and token.isdigit():\n",
    "                is_token_valid = False\n",
    "\n",
    "            # add token to new sub list\n",
    "            if is_token_valid:\n",
    "                new_token_list.append(token)\n",
    "        return new_token_list\n",
    "        \n",
    "    def preprocess_tokens(self, tokens):\n",
    "        new_tokens = []\n",
    "        for token_list in tokens:\n",
    "            new_tokens.append(self.raw_preprocess(token_list))\n",
    "        return new_tokens\n",
    "    \n",
    "def preprocess(tokens):\n",
    "    preprocessor = Preprocessor()\n",
    "    return preprocessor.preprocess_tokens(test)"
   ]
  },
  {
   "cell_type": "code",
   "execution_count": 11,
   "metadata": {},
   "outputs": [
    {
     "data": {
      "text/plain": [
       "[['sociolog',\n",
       "  'de',\n",
       "  'l',\n",
       "  'descriptioncour',\n",
       "  'trois',\n",
       "  'volet',\n",
       "  'principal',\n",
       "  'dans',\n",
       "  'ce',\n",
       "  'cour'],\n",
       " ['manag',\n",
       "  'descriptioncour',\n",
       "  'ce',\n",
       "  'cour',\n",
       "  'est',\n",
       "  'une',\n",
       "  'introduct',\n",
       "  'au',\n",
       "  'manag',\n",
       "  'et']]"
      ]
     },
     "execution_count": 11,
     "metadata": {},
     "output_type": "execute_result"
    }
   ],
   "source": [
    "test = [\n",
    "    ['Sociologie', 'de', 'l', 'DescriptionCours', ':', 'Trois', 'volets', 'principaux', 'dans', 'ce', 'cours'],\n",
    "    ['Management', 'DescriptionCours', ':', 'Ce', 'cours', 'est', 'une', 'introduction', 'au', 'management', 'et']\n",
    "]\n",
    "preprocessor = Preprocessor()\n",
    "preproc_test = preprocessor.preprocess_tokens(test)\n",
    "preproc_test"
   ]
  },
  {
   "cell_type": "markdown",
   "metadata": {},
   "source": [
    "TF-IDF"
   ]
  },
  {
   "cell_type": "code",
   "execution_count": 12,
   "metadata": {
    "scrolled": true
   },
   "outputs": [],
   "source": [
    "from sklearn.feature_extraction.text import TfidfVectorizer\n",
    "\n",
    "def identity_tokenizer(text):\n",
    "    return text\n",
    "\n",
    "vectorizer = TfidfVectorizer(preprocessor=preprocessor.raw_preprocess ,tokenizer=identity_tokenizer)\n",
    "IDF_data = vectorizer.fit_transform(tokens)"
   ]
  },
  {
   "cell_type": "markdown",
   "metadata": {},
   "source": [
    "SVD"
   ]
  },
  {
   "cell_type": "code",
   "execution_count": 13,
   "metadata": {},
   "outputs": [
    {
     "data": {
      "text/plain": [
       "TruncatedSVD(algorithm='randomized', n_components=50, n_iter=100,\n",
       "             random_state=None, tol=0.0)"
      ]
     },
     "execution_count": 13,
     "metadata": {},
     "output_type": "execute_result"
    }
   ],
   "source": [
    "from sklearn.decomposition import TruncatedSVD\n",
    "svd = TruncatedSVD(n_components=50, algorithm='randomized', n_iter=100)\n",
    "svd.fit(IDF_data)"
   ]
  },
  {
   "cell_type": "code",
   "execution_count": 14,
   "metadata": {},
   "outputs": [
    {
     "data": {
      "text/plain": [
       "0.183732935169068"
      ]
     },
     "execution_count": 14,
     "metadata": {},
     "output_type": "execute_result"
    }
   ],
   "source": [
    "sum(svd.explained_variance_)"
   ]
  },
  {
   "cell_type": "code",
   "execution_count": 15,
   "metadata": {},
   "outputs": [],
   "source": [
    "SVD_data = svd.transform(IDF_data)"
   ]
  },
  {
   "cell_type": "markdown",
   "metadata": {},
   "source": [
    "## 1. Quels sont les 10 cours les plus similaires à LOG2420 dans l'espace réduit à 50 dimensions? (8 pts.) Prenez le cosinus comme mesure de similarité. "
   ]
  },
  {
   "cell_type": "code",
   "execution_count": 16,
   "metadata": {},
   "outputs": [],
   "source": [
    "LOG2420_idx = df.index[df[\"course\"] == 'LOG2420'][0]"
   ]
  },
  {
   "cell_type": "code",
   "execution_count": 17,
   "metadata": {},
   "outputs": [],
   "source": [
    "from sklearn.metrics.pairwise import cosine_similarity\n",
    "cos_matrix = cosine_similarity(SVD_data)"
   ]
  },
  {
   "cell_type": "code",
   "execution_count": 18,
   "metadata": {},
   "outputs": [],
   "source": [
    "log_2420_cos = cos_matrix[LOG2420_idx]\n",
    "log_2420_sorted_cos = np.sort(log_2420_cos)\n",
    "recommendations_cos = log_2420_sorted_cos[::-1][1:11] #[::-1] reverses the list, and [1:11] takes the 10 firsts ignoring the very first one which is the course itself"
   ]
  },
  {
   "cell_type": "code",
   "execution_count": 19,
   "metadata": {},
   "outputs": [],
   "source": [
    "recommendations_indexes = [np.where(log_2420_cos == reco)[0][0] for reco in recommendations_cos]"
   ]
  },
  {
   "cell_type": "code",
   "execution_count": 20,
   "metadata": {},
   "outputs": [
    {
     "data": {
      "text/html": [
       "<div>\n",
       "<style scoped>\n",
       "    .dataframe tbody tr th:only-of-type {\n",
       "        vertical-align: middle;\n",
       "    }\n",
       "\n",
       "    .dataframe tbody tr th {\n",
       "        vertical-align: top;\n",
       "    }\n",
       "\n",
       "    .dataframe thead th {\n",
       "        text-align: right;\n",
       "    }\n",
       "</style>\n",
       "<table border=\"1\" class=\"dataframe\">\n",
       "  <thead>\n",
       "    <tr style=\"text-align: right;\">\n",
       "      <th></th>\n",
       "      <th>Unnamed: 0</th>\n",
       "      <th>uni</th>\n",
       "      <th>course</th>\n",
       "      <th>text</th>\n",
       "    </tr>\n",
       "  </thead>\n",
       "  <tbody>\n",
       "    <tr>\n",
       "      <td>1669</td>\n",
       "      <td>1888</td>\n",
       "      <td>Poly</td>\n",
       "      <td>LOG1000</td>\n",
       "      <td>TitreCours: Ingenierie logicielle\\nDescription...</td>\n",
       "    </tr>\n",
       "    <tr>\n",
       "      <td>1585</td>\n",
       "      <td>1804</td>\n",
       "      <td>Poly</td>\n",
       "      <td>INF1005C</td>\n",
       "      <td>TitreCours: Programmation procedurale\\nDescrip...</td>\n",
       "    </tr>\n",
       "    <tr>\n",
       "      <td>1584</td>\n",
       "      <td>1803</td>\n",
       "      <td>Poly</td>\n",
       "      <td>INF1005B</td>\n",
       "      <td>TitreCours: Programmation procedurale\\nDescrip...</td>\n",
       "    </tr>\n",
       "    <tr>\n",
       "      <td>1583</td>\n",
       "      <td>1802</td>\n",
       "      <td>Poly</td>\n",
       "      <td>INF1005A</td>\n",
       "      <td>TitreCours: Programmation procedurale\\nDescrip...</td>\n",
       "    </tr>\n",
       "    <tr>\n",
       "      <td>1660</td>\n",
       "      <td>1879</td>\n",
       "      <td>Poly</td>\n",
       "      <td>INF8701</td>\n",
       "      <td>TitreCours: Simulation des systemes a evenem. ...</td>\n",
       "    </tr>\n",
       "    <tr>\n",
       "      <td>967</td>\n",
       "      <td>1186</td>\n",
       "      <td>Poly</td>\n",
       "      <td>AE4500</td>\n",
       "      <td>TitreCours: Informatique embarque\\nDescription...</td>\n",
       "    </tr>\n",
       "    <tr>\n",
       "      <td>1670</td>\n",
       "      <td>1889</td>\n",
       "      <td>Poly</td>\n",
       "      <td>LOG2410</td>\n",
       "      <td>TitreCours: Conception logicielle\\nDescription...</td>\n",
       "    </tr>\n",
       "    <tr>\n",
       "      <td>1682</td>\n",
       "      <td>1901</td>\n",
       "      <td>Poly</td>\n",
       "      <td>LOG4430</td>\n",
       "      <td>TitreCours: Architecture logicielle et concept...</td>\n",
       "    </tr>\n",
       "    <tr>\n",
       "      <td>1552</td>\n",
       "      <td>1771</td>\n",
       "      <td>Poly</td>\n",
       "      <td>IND6402</td>\n",
       "      <td>TitreCours: Interfaces humains-ordinateurs\\nDe...</td>\n",
       "    </tr>\n",
       "    <tr>\n",
       "      <td>1658</td>\n",
       "      <td>1877</td>\n",
       "      <td>Poly</td>\n",
       "      <td>INF8500</td>\n",
       "      <td>TitreCours: Systemes embarques:conception et v...</td>\n",
       "    </tr>\n",
       "  </tbody>\n",
       "</table>\n",
       "</div>"
      ],
      "text/plain": [
       "      Unnamed: 0   uni    course  \\\n",
       "1669        1888  Poly   LOG1000   \n",
       "1585        1804  Poly  INF1005C   \n",
       "1584        1803  Poly  INF1005B   \n",
       "1583        1802  Poly  INF1005A   \n",
       "1660        1879  Poly   INF8701   \n",
       "967         1186  Poly    AE4500   \n",
       "1670        1889  Poly   LOG2410   \n",
       "1682        1901  Poly   LOG4430   \n",
       "1552        1771  Poly   IND6402   \n",
       "1658        1877  Poly   INF8500   \n",
       "\n",
       "                                                   text  \n",
       "1669  TitreCours: Ingenierie logicielle\\nDescription...  \n",
       "1585  TitreCours: Programmation procedurale\\nDescrip...  \n",
       "1584  TitreCours: Programmation procedurale\\nDescrip...  \n",
       "1583  TitreCours: Programmation procedurale\\nDescrip...  \n",
       "1660  TitreCours: Simulation des systemes a evenem. ...  \n",
       "967   TitreCours: Informatique embarque\\nDescription...  \n",
       "1670  TitreCours: Conception logicielle\\nDescription...  \n",
       "1682  TitreCours: Architecture logicielle et concept...  \n",
       "1552  TitreCours: Interfaces humains-ordinateurs\\nDe...  \n",
       "1658  TitreCours: Systemes embarques:conception et v...  "
      ]
     },
     "execution_count": 20,
     "metadata": {},
     "output_type": "execute_result"
    }
   ],
   "source": [
    "df.loc[list(recommendations_indexes)]"
   ]
  },
  {
   "cell_type": "markdown",
   "metadata": {},
   "source": [
    "## 2. Effectuez une classification de cours par une approche supervisée (4 pts.) Pour établir les libellés de classes, prenez les acronymes de cours commençant par PSY (psychologie) et PHY (physique). Calculez les centroides de chaque classe (PSY et PHY) des données d'entraînement et calculez l'aire sous la courbe ROC pour la prédiction de données de test (AUC, Area Under receiver operator Curve). "
   ]
  },
  {
   "cell_type": "code",
   "execution_count": 21,
   "metadata": {},
   "outputs": [
    {
     "name": "stderr",
     "output_type": "stream",
     "text": [
      "/usr/lib/python3.7/site-packages/ipykernel_launcher.py:4: SettingWithCopyWarning: \n",
      "A value is trying to be set on a copy of a slice from a DataFrame.\n",
      "Try using .loc[row_indexer,col_indexer] = value instead\n",
      "\n",
      "See the caveats in the documentation: http://pandas.pydata.org/pandas-docs/stable/user_guide/indexing.html#returning-a-view-versus-a-copy\n",
      "  after removing the cwd from sys.path.\n"
     ]
    },
    {
     "data": {
      "text/html": [
       "<div>\n",
       "<style scoped>\n",
       "    .dataframe tbody tr th:only-of-type {\n",
       "        vertical-align: middle;\n",
       "    }\n",
       "\n",
       "    .dataframe tbody tr th {\n",
       "        vertical-align: top;\n",
       "    }\n",
       "\n",
       "    .dataframe thead th {\n",
       "        text-align: right;\n",
       "    }\n",
       "</style>\n",
       "<table border=\"1\" class=\"dataframe\">\n",
       "  <thead>\n",
       "    <tr style=\"text-align: right;\">\n",
       "      <th></th>\n",
       "      <th>Unnamed: 0</th>\n",
       "      <th>uni</th>\n",
       "      <th>course</th>\n",
       "      <th>text</th>\n",
       "      <th>PSY</th>\n",
       "    </tr>\n",
       "  </thead>\n",
       "  <tbody>\n",
       "    <tr>\n",
       "      <td>7633</td>\n",
       "      <td>7891</td>\n",
       "      <td>UQAM</td>\n",
       "      <td>PHY0350</td>\n",
       "      <td>TitreCours: Introduction a la mecanique genera...</td>\n",
       "      <td>False</td>\n",
       "    </tr>\n",
       "    <tr>\n",
       "      <td>7634</td>\n",
       "      <td>7892</td>\n",
       "      <td>UQAM</td>\n",
       "      <td>PHY1011</td>\n",
       "      <td>TitreCours: L\\nDescriptionCours: Ce cours s'ad...</td>\n",
       "      <td>False</td>\n",
       "    </tr>\n",
       "    <tr>\n",
       "      <td>7635</td>\n",
       "      <td>7893</td>\n",
       "      <td>UQAM</td>\n",
       "      <td>PHY1020</td>\n",
       "      <td>TitreCours: Les systemes physiques\\nDescriptio...</td>\n",
       "      <td>False</td>\n",
       "    </tr>\n",
       "    <tr>\n",
       "      <td>7636</td>\n",
       "      <td>7894</td>\n",
       "      <td>UQAM</td>\n",
       "      <td>PHY1030</td>\n",
       "      <td>TitreCours: La physique des interactions et de...</td>\n",
       "      <td>False</td>\n",
       "    </tr>\n",
       "    <tr>\n",
       "      <td>7637</td>\n",
       "      <td>7895</td>\n",
       "      <td>UQAM</td>\n",
       "      <td>PHY1050</td>\n",
       "      <td>TitreCours: Mecanique\\nDescriptionCours: Ce co...</td>\n",
       "      <td>False</td>\n",
       "    </tr>\n",
       "    <tr>\n",
       "      <td>...</td>\n",
       "      <td>...</td>\n",
       "      <td>...</td>\n",
       "      <td>...</td>\n",
       "      <td>...</td>\n",
       "      <td>...</td>\n",
       "    </tr>\n",
       "    <tr>\n",
       "      <td>15102</td>\n",
       "      <td>15379</td>\n",
       "      <td>UdM</td>\n",
       "      <td>PSY3299</td>\n",
       "      <td>TitreCours: Stage d'initiation a la psychologi...</td>\n",
       "      <td>True</td>\n",
       "    </tr>\n",
       "    <tr>\n",
       "      <td>15103</td>\n",
       "      <td>15380</td>\n",
       "      <td>UdM</td>\n",
       "      <td>PSY3952</td>\n",
       "      <td>TitreCours: Psychologie en readaptation\\nDescr...</td>\n",
       "      <td>True</td>\n",
       "    </tr>\n",
       "    <tr>\n",
       "      <td>15104</td>\n",
       "      <td>15381</td>\n",
       "      <td>UdM</td>\n",
       "      <td>PSY3954</td>\n",
       "      <td>TitreCours: Methodes d'entrevue en sante\\nDesc...</td>\n",
       "      <td>True</td>\n",
       "    </tr>\n",
       "    <tr>\n",
       "      <td>15105</td>\n",
       "      <td>15382</td>\n",
       "      <td>UdM</td>\n",
       "      <td>PSY4000</td>\n",
       "      <td>TitreCours: Projet de recherche Honor\\nDescrip...</td>\n",
       "      <td>True</td>\n",
       "    </tr>\n",
       "    <tr>\n",
       "      <td>15106</td>\n",
       "      <td>15383</td>\n",
       "      <td>UdM</td>\n",
       "      <td>PSY4001</td>\n",
       "      <td>TitreCours: Methodes de recherche avancees\\nDe...</td>\n",
       "      <td>True</td>\n",
       "    </tr>\n",
       "  </tbody>\n",
       "</table>\n",
       "<p>521 rows × 5 columns</p>\n",
       "</div>"
      ],
      "text/plain": [
       "       Unnamed: 0   uni   course  \\\n",
       "7633         7891  UQAM  PHY0350   \n",
       "7634         7892  UQAM  PHY1011   \n",
       "7635         7893  UQAM  PHY1020   \n",
       "7636         7894  UQAM  PHY1030   \n",
       "7637         7895  UQAM  PHY1050   \n",
       "...           ...   ...      ...   \n",
       "15102       15379   UdM  PSY3299   \n",
       "15103       15380   UdM  PSY3952   \n",
       "15104       15381   UdM  PSY3954   \n",
       "15105       15382   UdM  PSY4000   \n",
       "15106       15383   UdM  PSY4001   \n",
       "\n",
       "                                                    text    PSY  \n",
       "7633   TitreCours: Introduction a la mecanique genera...  False  \n",
       "7634   TitreCours: L\\nDescriptionCours: Ce cours s'ad...  False  \n",
       "7635   TitreCours: Les systemes physiques\\nDescriptio...  False  \n",
       "7636   TitreCours: La physique des interactions et de...  False  \n",
       "7637   TitreCours: Mecanique\\nDescriptionCours: Ce co...  False  \n",
       "...                                                  ...    ...  \n",
       "15102  TitreCours: Stage d'initiation a la psychologi...   True  \n",
       "15103  TitreCours: Psychologie en readaptation\\nDescr...   True  \n",
       "15104  TitreCours: Methodes d'entrevue en sante\\nDesc...   True  \n",
       "15105  TitreCours: Projet de recherche Honor\\nDescrip...   True  \n",
       "15106  TitreCours: Methodes de recherche avancees\\nDe...   True  \n",
       "\n",
       "[521 rows x 5 columns]"
      ]
     },
     "execution_count": 21,
     "metadata": {},
     "output_type": "execute_result"
    }
   ],
   "source": [
    "mask = ((df[\"course\"].astype(str).str[:3] == \"PSY\") | (df[\"course\"].astype(str).str[:3] == \"PHY\"))\n",
    "class_df = df[mask]\n",
    "\n",
    "class_df[\"PSY\"] = df[\"course\"].astype(str).str[:3] == \"PSY\"\n",
    "class_df"
   ]
  },
  {
   "cell_type": "code",
   "execution_count": 22,
   "metadata": {},
   "outputs": [],
   "source": [
    "indexes = list(class_df.index.values)"
   ]
  },
  {
   "cell_type": "code",
   "execution_count": 23,
   "metadata": {},
   "outputs": [],
   "source": [
    "X_data = []\n",
    "for index in indexes:\n",
    "    X_data.append(SVD_data[index])\n",
    "    \n",
    "#np.take(SVD_data, indexes)\n",
    "X_data = np.array(X_data)"
   ]
  },
  {
   "cell_type": "code",
   "execution_count": 24,
   "metadata": {},
   "outputs": [],
   "source": [
    "y_data = class_df[\"PSY\"].values"
   ]
  },
  {
   "cell_type": "code",
   "execution_count": 25,
   "metadata": {},
   "outputs": [
    {
     "data": {
      "text/plain": [
       "521"
      ]
     },
     "execution_count": 25,
     "metadata": {},
     "output_type": "execute_result"
    }
   ],
   "source": [
    "len(X_data)"
   ]
  },
  {
   "cell_type": "code",
   "execution_count": 26,
   "metadata": {},
   "outputs": [
    {
     "data": {
      "text/plain": [
       "521"
      ]
     },
     "execution_count": 26,
     "metadata": {},
     "output_type": "execute_result"
    }
   ],
   "source": [
    "len(y_data)"
   ]
  },
  {
   "cell_type": "code",
   "execution_count": 69,
   "metadata": {},
   "outputs": [
    {
     "data": {
      "text/plain": [
       "407"
      ]
     },
     "execution_count": 69,
     "metadata": {},
     "output_type": "execute_result"
    }
   ],
   "source": [
    "n_positives = 0\n",
    "for y in y_data:\n",
    "    if y:\n",
    "        n_positives += 1\n",
    "n_positives"
   ]
  },
  {
   "cell_type": "code",
   "execution_count": 70,
   "metadata": {},
   "outputs": [
    {
     "data": {
      "text/plain": [
       "0.781190019193858"
      ]
     },
     "execution_count": 70,
     "metadata": {},
     "output_type": "execute_result"
    }
   ],
   "source": [
    "n_positives/len(y_data)"
   ]
  },
  {
   "cell_type": "markdown",
   "metadata": {},
   "source": [
    "tiré de https://stackoverflow.com/questions/52910061/implementing-roc-curves-for-k-nn-machine-learning-algorithm-using-python-and-sci/52910821"
   ]
  },
  {
   "cell_type": "code",
   "execution_count": 27,
   "metadata": {},
   "outputs": [],
   "source": [
    "from sklearn.model_selection import train_test_split\n",
    "X_train, X_test, y_train, y_test = train_test_split(X_data, y_data, test_size=0.4, random_state=42)"
   ]
  },
  {
   "cell_type": "code",
   "execution_count": 76,
   "metadata": {},
   "outputs": [],
   "source": [
    "from sklearn.neighbors import KNeighborsClassifier\n",
    "\n",
    "knn_classifier = KNeighborsClassifier(n_neighbors=15)\n",
    "knn_classifier.fit(X_train, y_train)\n",
    "\n",
    "y_scores = knn_classifier.predict_proba(X_test)"
   ]
  },
  {
   "cell_type": "code",
   "execution_count": 77,
   "metadata": {},
   "outputs": [
    {
     "data": {
      "text/plain": [
       "array([[0.06666667, 0.93333333],\n",
       "       [0.        , 1.        ],\n",
       "       [1.        , 0.        ],\n",
       "       [0.        , 1.        ],\n",
       "       [0.        , 1.        ],\n",
       "       [0.13333333, 0.86666667],\n",
       "       [0.33333333, 0.66666667],\n",
       "       [0.        , 1.        ],\n",
       "       [0.06666667, 0.93333333],\n",
       "       [0.4       , 0.6       ]])"
      ]
     },
     "execution_count": 77,
     "metadata": {},
     "output_type": "execute_result"
    }
   ],
   "source": [
    "y_scores[:10]"
   ]
  },
  {
   "cell_type": "code",
   "execution_count": 78,
   "metadata": {},
   "outputs": [
    {
     "data": {
      "text/plain": [
       "array([ True,  True, False,  True,  True,  True,  True,  True,  True,\n",
       "        True])"
      ]
     },
     "execution_count": 78,
     "metadata": {},
     "output_type": "execute_result"
    }
   ],
   "source": [
    "y_test[:10]"
   ]
  },
  {
   "cell_type": "markdown",
   "metadata": {},
   "source": [
    "On peut déjà voir que le modèle semble bien identifier les cours."
   ]
  },
  {
   "cell_type": "code",
   "execution_count": 79,
   "metadata": {},
   "outputs": [],
   "source": [
    "from sklearn.metrics import roc_curve\n",
    "from sklearn.metrics import auc\n",
    "\n",
    "false_positive_rate, true_positive_rate, threshold = roc_curve(y_test, y_scores[:, 1])\n",
    "roc_auc = auc(false_positive_rate, true_positive_rate)"
   ]
  },
  {
   "cell_type": "code",
   "execution_count": 80,
   "metadata": {},
   "outputs": [
    {
     "data": {
      "image/png": "[encoded data removed]",
      "text/plain": [
       "<Figure size 432x288 with 1 Axes>"
      ]
     },
     "metadata": {
      "needs_background": "dark"
     },
     "output_type": "display_data"
    }
   ],
   "source": [
    "plt.plot(false_positive_rate, true_positive_rate, 'g', label = 'AUC = %0.3f' % roc_auc)\n",
    "plt.legend()\n",
    "plt.plot([0, 1], [0, 1], 'y--')\n",
    "plt.xlim([-0.1, 1])\n",
    "plt.ylim([0, 1.1])\n",
    "plt.ylabel('True Positive Rate')\n",
    "plt.xlabel('False Positive Rate')\n",
    "plt.title('ROC Curve')\n",
    "plt.show()"
   ]
  },
  {
   "cell_type": "markdown",
   "metadata": {},
   "source": [
    "## 3. À partir de la validation croisée de la tâche de classification ci-dessus, déterminez le nombre de dimensions latentes optimal de SVD selon une approche dite wrapper (4 pts.)."
   ]
  },
  {
   "cell_type": "markdown",
   "metadata": {},
   "source": [
    "Nous allons utiliser l'accuracy afin de déterminer si un modèle est meilleur qu'un autre.\n",
    "\n",
    "Il est à noter que pour effectuer la validation croisée, nous allons utiliser *stratified kfold* puisque la quantité de cours de physique est petite en proportion à celle des cours de psychologie."
   ]
  },
  {
   "cell_type": "code",
   "execution_count": null,
   "metadata": {},
   "outputs": [],
   "source": [
    "from sklearn.model_selection import StratifiedKFold\n",
    "\n"
   ]
  },
  {
   "cell_type": "markdown",
   "metadata": {},
   "source": [
    "## 4.Effectuez une agglomération par k-means (k=2) et vérifiez si les classes PHY et PSY sont bien séparées par cette méthode (4 pts.). (à compléter)"
   ]
  },
  {
   "cell_type": "code",
   "execution_count": null,
   "metadata": {},
   "outputs": [],
   "source": []
  }
 ],
 "metadata": {
  "kernelspec": {
   "display_name": "Python 3",
   "language": "python",
   "name": "python3"
  },
  "language_info": {
   "codemirror_mode": {
    "name": "ipython",
    "version": 3
   },
   "file_extension": ".py",
   "mimetype": "text/x-python",
   "name": "python",
   "nbconvert_exporter": "python",
   "pygments_lexer": "ipython3",
   "version": "3.7.4"
  }
 },
 "nbformat": 4,
 "nbformat_minor": 2
}
