{
 "cells": [
  {
   "cell_type": "markdown",
   "metadata": {},
   "source": [
    "# TP2\n",
    "### Équipe 10\n",
    "### Fabrice Charbonneau (1798064)\n",
    "### Sanou Armel Kenzanga Landry (1976804)\n"
   ]
  },
  {
   "cell_type": "markdown",
   "metadata": {},
   "source": [
    "D'abord, lire les fichiers et les ajouter à un dataframe."
   ]
  },
  {
   "cell_type": "code",
   "execution_count": null,
   "metadata": {},
   "outputs": [],
   "source": [
    "import pandas as pd\n",
    "import numpy as np\n",
    "import matplotlib.pyplot as plt\n",
    "from nltk.corpus import PlaintextCorpusReader\n",
    "from os import path"
   ]
  },
  {
   "cell_type": "code",
   "execution_count": null,
   "metadata": {},
   "outputs": [],
   "source": [
    "if not path.exists(\"raw_data.csv\"):\n",
    "    i = 0\n",
    "    df = pd.DataFrame(columns=['uni', 'course', 'text'])\n",
    "    class_data = 'Descriptions' \n",
    "    corpus = PlaintextCorpusReader(class_data, '.*txt', encoding='latin-1')\n",
    "    for file in corpus.fileids():\n",
    "        uni_str = file.split(\"/\")[0]\n",
    "        new_corpus = PlaintextCorpusReader(class_data, file, encoding='latin-1')\n",
    "        df.loc[i] = [uni_str, file.split(\"/\")[1].split(\".\")[0], new_corpus.raw()]\n",
    "        i += 1\n",
    "        print(i,  end='\\r')\n",
    "    df.to_csv(\"raw_data.csv\")"
   ]
  },
  {
   "cell_type": "code",
   "execution_count": null,
   "metadata": {},
   "outputs": [],
   "source": [
    "df = pd.read_csv(\"raw_data.csv\")"
   ]
  },
  {
   "cell_type": "code",
   "execution_count": null,
   "metadata": {},
   "outputs": [],
   "source": [
    "df"
   ]
  },
  {
   "cell_type": "code",
   "execution_count": null,
   "metadata": {},
   "outputs": [],
   "source": []
  }
 ],
 "metadata": {
  "kernelspec": {
   "display_name": "Python 3",
   "language": "python",
   "name": "python3"
  },
  "language_info": {
   "codemirror_mode": {
    "name": "ipython",
    "version": 3
   },
   "file_extension": ".py",
   "mimetype": "text/x-python",
   "name": "python",
   "nbconvert_exporter": "python",
   "pygments_lexer": "ipython3",
   "version": "3.7.4"
  }
 },
 "nbformat": 4,
 "nbformat_minor": 2
}
