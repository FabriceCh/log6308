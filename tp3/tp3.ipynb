{
 "cells": [
  {
   "cell_type": "markdown",
   "metadata": {},
   "source": [
    "# TP2\n",
    "### Équipe 10\n",
    "### Fabrice Charbonneau (1798064)\n",
    "### Sanou Armel Kenzanga Landry (1976804)\n",
    "\n",
    "\n",
    "1. créer une matrice termes-documents; pour diminuer la taille du vocabulaire, utiliser un stemmer et éliminer les chiffres et la ponctuation;\n",
    "2. transformer les fréquences brutes par les valeurs TF-IDF;\n",
    "3. effectuer une réduction de dimensions avec SVD; utilisez 50 dimensions latentes.\n",
    "\n"
   ]
  },
  {
   "cell_type": "markdown",
   "metadata": {},
   "source": [
    "D'abord, lire les fichiers et les ajouter à un dataframe."
   ]
  },
  {
   "cell_type": "code",
   "execution_count": null,
   "metadata": {},
   "outputs": [],
   "source": [
    "import pandas as pd\n",
    "import numpy as np\n",
    "import matplotlib.pyplot as plt\n",
    "from nltk.corpus import PlaintextCorpusReader\n",
    "from os import path"
   ]
  },
  {
   "cell_type": "code",
   "execution_count": null,
   "metadata": {},
   "outputs": [],
   "source": [
    "if not path.exists(\"raw_data.csv\"):\n",
    "    i = 0\n",
    "    df = pd.DataFrame(columns=['uni', 'course', 'text'])\n",
    "    class_data = 'Descriptions' \n",
    "    corpus = PlaintextCorpusReader(class_data, '.*txt', encoding='latin-1')\n",
    "    for file in corpus.fileids():\n",
    "        uni_str = file.split(\"/\")[0]\n",
    "        new_corpus = PlaintextCorpusReader(class_data, file, encoding='latin-1')\n",
    "        df.loc[i] = [uni_str, file.split(\"/\")[1].split(\".\")[0], new_corpus.raw()]\n",
    "        i += 1\n",
    "        print(i,  end='\\r')\n",
    "    df.to_csv(\"raw_data.csv\", index=False)"
   ]
  },
  {
   "cell_type": "code",
   "execution_count": null,
   "metadata": {},
   "outputs": [],
   "source": [
    "df = pd.read_csv(\"raw_data.csv\")"
   ]
  },
  {
   "cell_type": "markdown",
   "metadata": {},
   "source": [
    "Détection du langage des textes avec https://pypi.org/project/langdetect/\n",
    "\n",
    "Nous n'allons conserver que les cours ayant comme langage détecté le français."
   ]
  },
  {
   "cell_type": "code",
   "execution_count": null,
   "metadata": {},
   "outputs": [],
   "source": [
    "from langdetect import detect\n",
    "\n",
    "if not path.exists(\"fr_only.csv\"):\n",
    "    df[\"lang\"] = df.apply( lambda row: detect(row[\"text\"]), axis=1)\n",
    "    df = df[df[\"lang\"] == \"fr\"]\n",
    "    df.to_csv(\"fr_only.csv\", index=False)\n",
    "df = pd.read_csv(\"fr_only.csv\")"
   ]
  },
  {
   "cell_type": "code",
   "execution_count": null,
   "metadata": {},
   "outputs": [],
   "source": [
    "df = df.drop(columns=\"lang\")"
   ]
  },
  {
   "cell_type": "code",
   "execution_count": 134,
   "metadata": {},
   "outputs": [
    {
     "data": {
      "text/html": [
       "<div>\n",
       "<style scoped>\n",
       "    .dataframe tbody tr th:only-of-type {\n",
       "        vertical-align: middle;\n",
       "    }\n",
       "\n",
       "    .dataframe tbody tr th {\n",
       "        vertical-align: top;\n",
       "    }\n",
       "\n",
       "    .dataframe thead th {\n",
       "        text-align: right;\n",
       "    }\n",
       "</style>\n",
       "<table border=\"1\" class=\"dataframe\">\n",
       "  <thead>\n",
       "    <tr style=\"text-align: right;\">\n",
       "      <th></th>\n",
       "      <th>Unnamed: 0</th>\n",
       "      <th>uni</th>\n",
       "      <th>course</th>\n",
       "      <th>text</th>\n",
       "      <th>lang</th>\n",
       "    </tr>\n",
       "  </thead>\n",
       "  <tbody>\n",
       "    <tr>\n",
       "      <td>0</td>\n",
       "      <td>0</td>\n",
       "      <td>HEC</td>\n",
       "      <td>1-404-96</td>\n",
       "      <td>TitreCours: Sociologie de l\\nDescriptionCours:...</td>\n",
       "      <td>fr</td>\n",
       "    </tr>\n",
       "    <tr>\n",
       "      <td>1</td>\n",
       "      <td>1</td>\n",
       "      <td>HEC</td>\n",
       "      <td>1-407-00</td>\n",
       "      <td>TitreCours: Management\\nDescriptionCours: Ce c...</td>\n",
       "      <td>fr</td>\n",
       "    </tr>\n",
       "    <tr>\n",
       "      <td>2</td>\n",
       "      <td>3</td>\n",
       "      <td>HEC</td>\n",
       "      <td>1-611-09</td>\n",
       "      <td>TitreCours: Modelisation et optimisation\\nDesc...</td>\n",
       "      <td>fr</td>\n",
       "    </tr>\n",
       "    <tr>\n",
       "      <td>3</td>\n",
       "      <td>4</td>\n",
       "      <td>HEC</td>\n",
       "      <td>1-611-96</td>\n",
       "      <td>TitreCours: Modelisation et optimisation\\nDesc...</td>\n",
       "      <td>fr</td>\n",
       "    </tr>\n",
       "    <tr>\n",
       "      <td>4</td>\n",
       "      <td>5</td>\n",
       "      <td>HEC</td>\n",
       "      <td>1-612-96</td>\n",
       "      <td>TitreCours: Mathematiques financieres\\nDescrip...</td>\n",
       "      <td>fr</td>\n",
       "    </tr>\n",
       "    <tr>\n",
       "      <td>...</td>\n",
       "      <td>...</td>\n",
       "      <td>...</td>\n",
       "      <td>...</td>\n",
       "      <td>...</td>\n",
       "      <td>...</td>\n",
       "    </tr>\n",
       "    <tr>\n",
       "      <td>16050</td>\n",
       "      <td>16330</td>\n",
       "      <td>UdM</td>\n",
       "      <td>VNM1060H</td>\n",
       "      <td>TitreCours: Vietnamien elementaire 2\\nDescript...</td>\n",
       "      <td>fr</td>\n",
       "    </tr>\n",
       "    <tr>\n",
       "      <td>16051</td>\n",
       "      <td>16331</td>\n",
       "      <td>UdM</td>\n",
       "      <td>VNM2050</td>\n",
       "      <td>TitreCours: Vietnamien intermediaire 1\\nDescri...</td>\n",
       "      <td>fr</td>\n",
       "    </tr>\n",
       "    <tr>\n",
       "      <td>16052</td>\n",
       "      <td>16332</td>\n",
       "      <td>UdM</td>\n",
       "      <td>VNM2050H</td>\n",
       "      <td>TitreCours: Vietnamien intermediaire 1\\nDescri...</td>\n",
       "      <td>fr</td>\n",
       "    </tr>\n",
       "    <tr>\n",
       "      <td>16053</td>\n",
       "      <td>16333</td>\n",
       "      <td>UdM</td>\n",
       "      <td>VNM2060</td>\n",
       "      <td>TitreCours: Vietnamien intermediaire 2\\nDescri...</td>\n",
       "      <td>fr</td>\n",
       "    </tr>\n",
       "    <tr>\n",
       "      <td>16054</td>\n",
       "      <td>16334</td>\n",
       "      <td>UdM</td>\n",
       "      <td>VNM2060H</td>\n",
       "      <td>TitreCours: Vietnamien intermediaire 2\\nDescri...</td>\n",
       "      <td>fr</td>\n",
       "    </tr>\n",
       "  </tbody>\n",
       "</table>\n",
       "<p>16055 rows × 5 columns</p>\n",
       "</div>"
      ],
      "text/plain": [
       "       Unnamed: 0  uni    course  \\\n",
       "0               0  HEC  1-404-96   \n",
       "1               1  HEC  1-407-00   \n",
       "2               3  HEC  1-611-09   \n",
       "3               4  HEC  1-611-96   \n",
       "4               5  HEC  1-612-96   \n",
       "...           ...  ...       ...   \n",
       "16050       16330  UdM  VNM1060H   \n",
       "16051       16331  UdM   VNM2050   \n",
       "16052       16332  UdM  VNM2050H   \n",
       "16053       16333  UdM   VNM2060   \n",
       "16054       16334  UdM  VNM2060H   \n",
       "\n",
       "                                                    text lang  \n",
       "0      TitreCours: Sociologie de l\\nDescriptionCours:...   fr  \n",
       "1      TitreCours: Management\\nDescriptionCours: Ce c...   fr  \n",
       "2      TitreCours: Modelisation et optimisation\\nDesc...   fr  \n",
       "3      TitreCours: Modelisation et optimisation\\nDesc...   fr  \n",
       "4      TitreCours: Mathematiques financieres\\nDescrip...   fr  \n",
       "...                                                  ...  ...  \n",
       "16050  TitreCours: Vietnamien elementaire 2\\nDescript...   fr  \n",
       "16051  TitreCours: Vietnamien intermediaire 1\\nDescri...   fr  \n",
       "16052  TitreCours: Vietnamien intermediaire 1\\nDescri...   fr  \n",
       "16053  TitreCours: Vietnamien intermediaire 2\\nDescri...   fr  \n",
       "16054  TitreCours: Vietnamien intermediaire 2\\nDescri...   fr  \n",
       "\n",
       "[16055 rows x 5 columns]"
      ]
     },
     "execution_count": 134,
     "metadata": {},
     "output_type": "execute_result"
    }
   ],
   "source": [
    "df"
   ]
  },
  {
   "cell_type": "markdown",
   "metadata": {},
   "source": [
    "Utilisation d'un Tokenizer pour séparer les strings en mots.\n",
    "\n",
    "TweetTokenizer de nltk est à la base fait pour les tweets, donc traite le texte pouvant contenir des hashtags et autres particularité des tweets. Dans notre cas, ça ne change pas grand chose, il fera facilement le travail même le texte n'est pas des tweets."
   ]
  },
  {
   "cell_type": "code",
   "execution_count": null,
   "metadata": {},
   "outputs": [],
   "source": [
    "from nltk.tokenize import TweetTokenizer\n",
    "tknzr = TweetTokenizer()\n",
    "tokens = df[\"text\"].apply(lambda x: tknzr.tokenize(x)).values"
   ]
  },
  {
   "cell_type": "markdown",
   "metadata": {},
   "source": [
    "Stemmer afin d'éliminer les tokens inutles"
   ]
  },
  {
   "cell_type": "code",
   "execution_count": null,
   "metadata": {},
   "outputs": [],
   "source": [
    "from nltk.stem.snowball import SnowballStemmer\n",
    "import string\n",
    "from nltk.corpus import stopwords"
   ]
  },
  {
   "cell_type": "code",
   "execution_count": null,
   "metadata": {},
   "outputs": [],
   "source": [
    "st = SnowballStemmer(\"french\", ignore_stopwords=True)\n",
    "[st.stem(word) for word in [\"Yeux\", \"Sociologie\", \".\", \"souris\"]]"
   ]
  },
  {
   "cell_type": "code",
   "execution_count": null,
   "metadata": {},
   "outputs": [],
   "source": [
    "class Preprocessor:\n",
    "    def __init__(self, stem=True, punctuation=True, digit=True):\n",
    "        self.st = SnowballStemmer(\"french\", ignore_stopwords=True)\n",
    "        self.punctuations = set(string.punctuation)\n",
    "        self.stem = stem\n",
    "        self.punctuation = punctuation\n",
    "        self.digit = digit\n",
    "    \n",
    "    def raw_preprocess(self, token_list):\n",
    "        new_token_list = []\n",
    "        for token in token_list:\n",
    "            is_token_valid = True\n",
    "            token = token.lower()\n",
    "            \n",
    "            # stemming\n",
    "            if self.stem:\n",
    "                token = self.st.stem(token)\n",
    "\n",
    "            # punctuation filtering\n",
    "            if self.punctuation and token in self.punctuations:\n",
    "                is_token_valid = False\n",
    "\n",
    "            # digit filtering\n",
    "            elif self.digit and token.isdigit():\n",
    "                is_token_valid = False\n",
    "\n",
    "            # add token to new sub list\n",
    "            if is_token_valid:\n",
    "                new_token_list.append(token)\n",
    "        return new_token_list\n",
    "        \n",
    "    def preprocess_tokens(self, tokens):\n",
    "        new_tokens = []\n",
    "        for token_list in tokens:\n",
    "            new_tokens.append(self.raw_preprocess(token_list))\n",
    "        return new_tokens\n",
    "    \n",
    "def preprocess(tokens):\n",
    "    preprocessor = Preprocessor()\n",
    "    return preprocessor.preprocess_tokens(test)"
   ]
  },
  {
   "cell_type": "code",
   "execution_count": null,
   "metadata": {},
   "outputs": [],
   "source": [
    "test = [\n",
    "    ['Sociologie', 'de', 'l', 'DescriptionCours', ':', 'Trois', 'volets', 'principaux', 'dans', 'ce', 'cours'],\n",
    "    ['Management', 'DescriptionCours', ':', 'Ce', 'cours', 'est', 'une', 'introduction', 'au', 'management', 'et']\n",
    "]\n",
    "preprocessor = Preprocessor()\n",
    "preproc_test = preprocessor.preprocess_tokens(test)\n",
    "preproc_test"
   ]
  },
  {
   "cell_type": "code",
   "execution_count": null,
   "metadata": {},
   "outputs": [],
   "source": [
    "preprocessor = Preprocessor()\n",
    "preproc_tokens = preprocessor.preprocess_tokens(tokens)"
   ]
  },
  {
   "cell_type": "markdown",
   "metadata": {},
   "source": [
    "TF-IDF"
   ]
  },
  {
   "cell_type": "code",
   "execution_count": null,
   "metadata": {
    "scrolled": true
   },
   "outputs": [],
   "source": [
    "from sklearn.feature_extraction.text import TfidfVectorizer\n",
    "\n",
    "def identity_tokenizer(text):\n",
    "    return text\n",
    "\n",
    "#vectorizer = TfidfVectorizer(preprocessor = preprocessor.preprocess_tokens, tokenizer=identity_tokenizer)\n",
    "vectorizer = TfidfVectorizer(preprocessor=preprocessor.raw_preprocess ,tokenizer=identity_tokenizer)\n",
    "IDF_data = vectorizer.fit_transform(tokens)"
   ]
  },
  {
   "cell_type": "markdown",
   "metadata": {},
   "source": [
    "SVD"
   ]
  },
  {
   "cell_type": "code",
   "execution_count": null,
   "metadata": {},
   "outputs": [],
   "source": [
    "from sklearn.decomposition import TruncatedSVD\n",
    "svd = TruncatedSVD(n_components=50, algorithm='randomized', n_iter=100)\n",
    "svd.fit(IDF_data)"
   ]
  },
  {
   "cell_type": "code",
   "execution_count": null,
   "metadata": {},
   "outputs": [],
   "source": [
    "sum(svd.explained_variance_)"
   ]
  },
  {
   "cell_type": "code",
   "execution_count": null,
   "metadata": {},
   "outputs": [],
   "source": [
    "SVD_data = svd.transform(IDF_data)"
   ]
  },
  {
   "cell_type": "markdown",
   "metadata": {},
   "source": [
    "## 1. Quels sont les 10 cours les plus similaires à LOG2420 dans l'espace réduit à 50 dimensions? (8 pts.) Prenez le cosinus comme mesure de similarité. "
   ]
  },
  {
   "cell_type": "code",
   "execution_count": null,
   "metadata": {},
   "outputs": [],
   "source": [
    "LOG2420_idx = df.index[df[\"course\"] == 'LOG2420'][0]"
   ]
  },
  {
   "cell_type": "code",
   "execution_count": null,
   "metadata": {},
   "outputs": [],
   "source": [
    "from sklearn.metrics.pairwise import cosine_similarity\n",
    "cos_matrix = cosine_similarity(SVD_data)"
   ]
  },
  {
   "cell_type": "code",
   "execution_count": null,
   "metadata": {},
   "outputs": [],
   "source": [
    "log_2420_cos = cos_matrix[LOG2420_idx]\n",
    "log_2420_sorted_cos = np.sort(log_2420_cos)\n",
    "recommendations_cos = log_2420_sorted_cos[::-1][1:11]"
   ]
  },
  {
   "cell_type": "code",
   "execution_count": null,
   "metadata": {},
   "outputs": [],
   "source": [
    "recommendations_indx = [np.where(log_2420_cos == reco)[0][0] for reco in recommendations_cos]"
   ]
  },
  {
   "cell_type": "code",
   "execution_count": null,
   "metadata": {},
   "outputs": [],
   "source": [
    "df.loc[list(recommendations_indx)]"
   ]
  },
  {
   "cell_type": "markdown",
   "metadata": {},
   "source": [
    "## 2. Effectuez une classification de cours par une approche supervisée (4 pts.) Pour établir les libellés de classes, prenez les acronymes de cours commençant par PSY (psychologie) et PHY (physique). Calculez les centroides de chaque classe (PSY et PHY) des données d'entraînement et calculez l'aire sous la courbe ROC pour la prédiction de données de test (AUC, Area Under receiver operator Curve). "
   ]
  },
  {
   "cell_type": "code",
   "execution_count": 153,
   "metadata": {},
   "outputs": [
    {
     "data": {
      "text/html": [
       "<div>\n",
       "<style scoped>\n",
       "    .dataframe tbody tr th:only-of-type {\n",
       "        vertical-align: middle;\n",
       "    }\n",
       "\n",
       "    .dataframe tbody tr th {\n",
       "        vertical-align: top;\n",
       "    }\n",
       "\n",
       "    .dataframe thead th {\n",
       "        text-align: right;\n",
       "    }\n",
       "</style>\n",
       "<table border=\"1\" class=\"dataframe\">\n",
       "  <thead>\n",
       "    <tr style=\"text-align: right;\">\n",
       "      <th></th>\n",
       "      <th>Unnamed: 0</th>\n",
       "      <th>uni</th>\n",
       "      <th>course</th>\n",
       "      <th>text</th>\n",
       "      <th>lang</th>\n",
       "    </tr>\n",
       "  </thead>\n",
       "  <tbody>\n",
       "    <tr>\n",
       "      <td>7633</td>\n",
       "      <td>7891</td>\n",
       "      <td>UQAM</td>\n",
       "      <td>PHY0350</td>\n",
       "      <td>TitreCours: Introduction a la mecanique genera...</td>\n",
       "      <td>fr</td>\n",
       "    </tr>\n",
       "    <tr>\n",
       "      <td>7634</td>\n",
       "      <td>7892</td>\n",
       "      <td>UQAM</td>\n",
       "      <td>PHY1011</td>\n",
       "      <td>TitreCours: L\\nDescriptionCours: Ce cours s'ad...</td>\n",
       "      <td>fr</td>\n",
       "    </tr>\n",
       "    <tr>\n",
       "      <td>7635</td>\n",
       "      <td>7893</td>\n",
       "      <td>UQAM</td>\n",
       "      <td>PHY1020</td>\n",
       "      <td>TitreCours: Les systemes physiques\\nDescriptio...</td>\n",
       "      <td>fr</td>\n",
       "    </tr>\n",
       "    <tr>\n",
       "      <td>7636</td>\n",
       "      <td>7894</td>\n",
       "      <td>UQAM</td>\n",
       "      <td>PHY1030</td>\n",
       "      <td>TitreCours: La physique des interactions et de...</td>\n",
       "      <td>fr</td>\n",
       "    </tr>\n",
       "    <tr>\n",
       "      <td>7637</td>\n",
       "      <td>7895</td>\n",
       "      <td>UQAM</td>\n",
       "      <td>PHY1050</td>\n",
       "      <td>TitreCours: Mecanique\\nDescriptionCours: Ce co...</td>\n",
       "      <td>fr</td>\n",
       "    </tr>\n",
       "    <tr>\n",
       "      <td>...</td>\n",
       "      <td>...</td>\n",
       "      <td>...</td>\n",
       "      <td>...</td>\n",
       "      <td>...</td>\n",
       "      <td>...</td>\n",
       "    </tr>\n",
       "    <tr>\n",
       "      <td>15102</td>\n",
       "      <td>15379</td>\n",
       "      <td>UdM</td>\n",
       "      <td>PSY3299</td>\n",
       "      <td>TitreCours: Stage d'initiation a la psychologi...</td>\n",
       "      <td>fr</td>\n",
       "    </tr>\n",
       "    <tr>\n",
       "      <td>15103</td>\n",
       "      <td>15380</td>\n",
       "      <td>UdM</td>\n",
       "      <td>PSY3952</td>\n",
       "      <td>TitreCours: Psychologie en readaptation\\nDescr...</td>\n",
       "      <td>fr</td>\n",
       "    </tr>\n",
       "    <tr>\n",
       "      <td>15104</td>\n",
       "      <td>15381</td>\n",
       "      <td>UdM</td>\n",
       "      <td>PSY3954</td>\n",
       "      <td>TitreCours: Methodes d'entrevue en sante\\nDesc...</td>\n",
       "      <td>fr</td>\n",
       "    </tr>\n",
       "    <tr>\n",
       "      <td>15105</td>\n",
       "      <td>15382</td>\n",
       "      <td>UdM</td>\n",
       "      <td>PSY4000</td>\n",
       "      <td>TitreCours: Projet de recherche Honor\\nDescrip...</td>\n",
       "      <td>fr</td>\n",
       "    </tr>\n",
       "    <tr>\n",
       "      <td>15106</td>\n",
       "      <td>15383</td>\n",
       "      <td>UdM</td>\n",
       "      <td>PSY4001</td>\n",
       "      <td>TitreCours: Methodes de recherche avancees\\nDe...</td>\n",
       "      <td>fr</td>\n",
       "    </tr>\n",
       "  </tbody>\n",
       "</table>\n",
       "<p>521 rows × 5 columns</p>\n",
       "</div>"
      ],
      "text/plain": [
       "       Unnamed: 0   uni   course  \\\n",
       "7633         7891  UQAM  PHY0350   \n",
       "7634         7892  UQAM  PHY1011   \n",
       "7635         7893  UQAM  PHY1020   \n",
       "7636         7894  UQAM  PHY1030   \n",
       "7637         7895  UQAM  PHY1050   \n",
       "...           ...   ...      ...   \n",
       "15102       15379   UdM  PSY3299   \n",
       "15103       15380   UdM  PSY3952   \n",
       "15104       15381   UdM  PSY3954   \n",
       "15105       15382   UdM  PSY4000   \n",
       "15106       15383   UdM  PSY4001   \n",
       "\n",
       "                                                    text lang  \n",
       "7633   TitreCours: Introduction a la mecanique genera...   fr  \n",
       "7634   TitreCours: L\\nDescriptionCours: Ce cours s'ad...   fr  \n",
       "7635   TitreCours: Les systemes physiques\\nDescriptio...   fr  \n",
       "7636   TitreCours: La physique des interactions et de...   fr  \n",
       "7637   TitreCours: Mecanique\\nDescriptionCours: Ce co...   fr  \n",
       "...                                                  ...  ...  \n",
       "15102  TitreCours: Stage d'initiation a la psychologi...   fr  \n",
       "15103  TitreCours: Psychologie en readaptation\\nDescr...   fr  \n",
       "15104  TitreCours: Methodes d'entrevue en sante\\nDesc...   fr  \n",
       "15105  TitreCours: Projet de recherche Honor\\nDescrip...   fr  \n",
       "15106  TitreCours: Methodes de recherche avancees\\nDe...   fr  \n",
       "\n",
       "[521 rows x 5 columns]"
      ]
     },
     "execution_count": 153,
     "metadata": {},
     "output_type": "execute_result"
    }
   ],
   "source": [
    "mask = ((df[\"course\"].astype(str).str[:3] == \"PSY\") | (df[\"course\"].astype(str).str[:3] == \"PHY\"))\n",
    "train_df = df[mask]\n",
    "train_df"
   ]
  },
  {
   "cell_type": "code",
   "execution_count": 159,
   "metadata": {},
   "outputs": [
    {
     "name": "stderr",
     "output_type": "stream",
     "text": [
      "/home/fabrice/.local/lib/python3.7/site-packages/ipykernel_launcher.py:1: SettingWithCopyWarning: \n",
      "A value is trying to be set on a copy of a slice from a DataFrame.\n",
      "Try using .loc[row_indexer,col_indexer] = value instead\n",
      "\n",
      "See the caveats in the documentation: http://pandas.pydata.org/pandas-docs/stable/user_guide/indexing.html#returning-a-view-versus-a-copy\n",
      "  \"\"\"Entry point for launching an IPython kernel.\n",
      "/home/fabrice/.local/lib/python3.7/site-packages/ipykernel_launcher.py:2: SettingWithCopyWarning: \n",
      "A value is trying to be set on a copy of a slice from a DataFrame.\n",
      "Try using .loc[row_indexer,col_indexer] = value instead\n",
      "\n",
      "See the caveats in the documentation: http://pandas.pydata.org/pandas-docs/stable/user_guide/indexing.html#returning-a-view-versus-a-copy\n",
      "  \n"
     ]
    },
    {
     "data": {
      "text/html": [
       "<div>\n",
       "<style scoped>\n",
       "    .dataframe tbody tr th:only-of-type {\n",
       "        vertical-align: middle;\n",
       "    }\n",
       "\n",
       "    .dataframe tbody tr th {\n",
       "        vertical-align: top;\n",
       "    }\n",
       "\n",
       "    .dataframe thead th {\n",
       "        text-align: right;\n",
       "    }\n",
       "</style>\n",
       "<table border=\"1\" class=\"dataframe\">\n",
       "  <thead>\n",
       "    <tr style=\"text-align: right;\">\n",
       "      <th></th>\n",
       "      <th>Unnamed: 0</th>\n",
       "      <th>uni</th>\n",
       "      <th>course</th>\n",
       "      <th>text</th>\n",
       "      <th>lang</th>\n",
       "      <th>PSY</th>\n",
       "      <th>PHY</th>\n",
       "    </tr>\n",
       "  </thead>\n",
       "  <tbody>\n",
       "    <tr>\n",
       "      <td>7633</td>\n",
       "      <td>7891</td>\n",
       "      <td>UQAM</td>\n",
       "      <td>PHY0350</td>\n",
       "      <td>TitreCours: Introduction a la mecanique genera...</td>\n",
       "      <td>fr</td>\n",
       "      <td>False</td>\n",
       "      <td>True</td>\n",
       "    </tr>\n",
       "    <tr>\n",
       "      <td>7634</td>\n",
       "      <td>7892</td>\n",
       "      <td>UQAM</td>\n",
       "      <td>PHY1011</td>\n",
       "      <td>TitreCours: L\\nDescriptionCours: Ce cours s'ad...</td>\n",
       "      <td>fr</td>\n",
       "      <td>False</td>\n",
       "      <td>True</td>\n",
       "    </tr>\n",
       "    <tr>\n",
       "      <td>7635</td>\n",
       "      <td>7893</td>\n",
       "      <td>UQAM</td>\n",
       "      <td>PHY1020</td>\n",
       "      <td>TitreCours: Les systemes physiques\\nDescriptio...</td>\n",
       "      <td>fr</td>\n",
       "      <td>False</td>\n",
       "      <td>True</td>\n",
       "    </tr>\n",
       "    <tr>\n",
       "      <td>7636</td>\n",
       "      <td>7894</td>\n",
       "      <td>UQAM</td>\n",
       "      <td>PHY1030</td>\n",
       "      <td>TitreCours: La physique des interactions et de...</td>\n",
       "      <td>fr</td>\n",
       "      <td>False</td>\n",
       "      <td>True</td>\n",
       "    </tr>\n",
       "    <tr>\n",
       "      <td>7637</td>\n",
       "      <td>7895</td>\n",
       "      <td>UQAM</td>\n",
       "      <td>PHY1050</td>\n",
       "      <td>TitreCours: Mecanique\\nDescriptionCours: Ce co...</td>\n",
       "      <td>fr</td>\n",
       "      <td>False</td>\n",
       "      <td>True</td>\n",
       "    </tr>\n",
       "    <tr>\n",
       "      <td>...</td>\n",
       "      <td>...</td>\n",
       "      <td>...</td>\n",
       "      <td>...</td>\n",
       "      <td>...</td>\n",
       "      <td>...</td>\n",
       "      <td>...</td>\n",
       "      <td>...</td>\n",
       "    </tr>\n",
       "    <tr>\n",
       "      <td>15102</td>\n",
       "      <td>15379</td>\n",
       "      <td>UdM</td>\n",
       "      <td>PSY3299</td>\n",
       "      <td>TitreCours: Stage d'initiation a la psychologi...</td>\n",
       "      <td>fr</td>\n",
       "      <td>True</td>\n",
       "      <td>False</td>\n",
       "    </tr>\n",
       "    <tr>\n",
       "      <td>15103</td>\n",
       "      <td>15380</td>\n",
       "      <td>UdM</td>\n",
       "      <td>PSY3952</td>\n",
       "      <td>TitreCours: Psychologie en readaptation\\nDescr...</td>\n",
       "      <td>fr</td>\n",
       "      <td>True</td>\n",
       "      <td>False</td>\n",
       "    </tr>\n",
       "    <tr>\n",
       "      <td>15104</td>\n",
       "      <td>15381</td>\n",
       "      <td>UdM</td>\n",
       "      <td>PSY3954</td>\n",
       "      <td>TitreCours: Methodes d'entrevue en sante\\nDesc...</td>\n",
       "      <td>fr</td>\n",
       "      <td>True</td>\n",
       "      <td>False</td>\n",
       "    </tr>\n",
       "    <tr>\n",
       "      <td>15105</td>\n",
       "      <td>15382</td>\n",
       "      <td>UdM</td>\n",
       "      <td>PSY4000</td>\n",
       "      <td>TitreCours: Projet de recherche Honor\\nDescrip...</td>\n",
       "      <td>fr</td>\n",
       "      <td>True</td>\n",
       "      <td>False</td>\n",
       "    </tr>\n",
       "    <tr>\n",
       "      <td>15106</td>\n",
       "      <td>15383</td>\n",
       "      <td>UdM</td>\n",
       "      <td>PSY4001</td>\n",
       "      <td>TitreCours: Methodes de recherche avancees\\nDe...</td>\n",
       "      <td>fr</td>\n",
       "      <td>True</td>\n",
       "      <td>False</td>\n",
       "    </tr>\n",
       "  </tbody>\n",
       "</table>\n",
       "<p>521 rows × 7 columns</p>\n",
       "</div>"
      ],
      "text/plain": [
       "       Unnamed: 0   uni   course  \\\n",
       "7633         7891  UQAM  PHY0350   \n",
       "7634         7892  UQAM  PHY1011   \n",
       "7635         7893  UQAM  PHY1020   \n",
       "7636         7894  UQAM  PHY1030   \n",
       "7637         7895  UQAM  PHY1050   \n",
       "...           ...   ...      ...   \n",
       "15102       15379   UdM  PSY3299   \n",
       "15103       15380   UdM  PSY3952   \n",
       "15104       15381   UdM  PSY3954   \n",
       "15105       15382   UdM  PSY4000   \n",
       "15106       15383   UdM  PSY4001   \n",
       "\n",
       "                                                    text lang    PSY    PHY  \n",
       "7633   TitreCours: Introduction a la mecanique genera...   fr  False   True  \n",
       "7634   TitreCours: L\\nDescriptionCours: Ce cours s'ad...   fr  False   True  \n",
       "7635   TitreCours: Les systemes physiques\\nDescriptio...   fr  False   True  \n",
       "7636   TitreCours: La physique des interactions et de...   fr  False   True  \n",
       "7637   TitreCours: Mecanique\\nDescriptionCours: Ce co...   fr  False   True  \n",
       "...                                                  ...  ...    ...    ...  \n",
       "15102  TitreCours: Stage d'initiation a la psychologi...   fr   True  False  \n",
       "15103  TitreCours: Psychologie en readaptation\\nDescr...   fr   True  False  \n",
       "15104  TitreCours: Methodes d'entrevue en sante\\nDesc...   fr   True  False  \n",
       "15105  TitreCours: Projet de recherche Honor\\nDescrip...   fr   True  False  \n",
       "15106  TitreCours: Methodes de recherche avancees\\nDe...   fr   True  False  \n",
       "\n",
       "[521 rows x 7 columns]"
      ]
     },
     "execution_count": 159,
     "metadata": {},
     "output_type": "execute_result"
    }
   ],
   "source": [
    "train_df[\"PSY\"] = df[\"course\"].astype(str).str[:3] == \"PSY\"\n",
    "train_df[\"PHY\"] = df[\"course\"].astype(str).str[:3] == \"PHY\"\n",
    "train_df"
   ]
  },
  {
   "cell_type": "code",
   "execution_count": null,
   "metadata": {},
   "outputs": [],
   "source": []
  },
  {
   "cell_type": "markdown",
   "metadata": {},
   "source": [
    "## 3. À partir de la validation croisée de la tâche de classification ci-dessus, déterminez le nombre de dimensions latentes optimal de SVD selon une approche dite wrapper (4 pts.)."
   ]
  },
  {
   "cell_type": "code",
   "execution_count": null,
   "metadata": {},
   "outputs": [],
   "source": []
  },
  {
   "cell_type": "markdown",
   "metadata": {},
   "source": [
    "## 4.Effectuez une agglomération par k-means (k=2) et vérifiez si les classes PHY et PSY sont bien séparées par cette méthode (4 pts.). (à compléter)"
   ]
  },
  {
   "cell_type": "code",
   "execution_count": null,
   "metadata": {},
   "outputs": [],
   "source": []
  }
 ],
 "metadata": {
  "kernelspec": {
   "display_name": "Python 3",
   "language": "python",
   "name": "python3"
  },
  "language_info": {
   "codemirror_mode": {
    "name": "ipython",
    "version": 3
   },
   "file_extension": ".py",
   "mimetype": "text/x-python",
   "name": "python",
   "nbconvert_exporter": "python",
   "pygments_lexer": "ipython3",
   "version": "3.7.4"
  }
 },
 "nbformat": 4,
 "nbformat_minor": 2
}
