{
 "cells": [
  {
   "cell_type": "markdown",
   "metadata": {},
   "source": [
    "# TP3\n",
    "### Équipe 10\n",
    "### Fabrice Charbonneau (1798064)\n",
    "### Sanou Armel Kenzanga Landry (1976804)\n",
    "\n",
    "\n",
    "1. créer une matrice termes-documents; pour diminuer la taille du vocabulaire, utiliser un stemmer et éliminer les chiffres et la ponctuation;\n",
    "2. transformer les fréquences brutes par les valeurs TF-IDF;\n",
    "3. effectuer une réduction de dimensions avec SVD; utilisez 50 dimensions latentes.\n",
    "\n"
   ]
  },
  {
   "cell_type": "markdown",
   "metadata": {},
   "source": [
    "D'abord, lire les fichiers et les ajouter à un dataframe."
   ]
  },
  {
   "cell_type": "code",
   "execution_count": 67,
   "metadata": {},
   "outputs": [],
   "source": [
    "import pandas as pd\n",
    "import numpy as np\n",
    "import matplotlib.pyplot as plt\n",
    "from nltk.corpus import PlaintextCorpusReader\n",
    "from os import path\n",
    "\n",
    "#can be removed\n",
    "from jupyterthemes import jtplot\n",
    "jtplot.style()"
   ]
  },
  {
   "cell_type": "code",
   "execution_count": 2,
   "metadata": {},
   "outputs": [],
   "source": [
    "if not path.exists(\"raw_data.csv\"):\n",
    "    i = 0\n",
    "    df = pd.DataFrame(columns=['uni', 'course', 'text'])\n",
    "    class_data = 'Descriptions' \n",
    "    corpus = PlaintextCorpusReader(class_data, '.*txt', encoding='latin-1')\n",
    "    for file in corpus.fileids():\n",
    "        uni_str = file.split(\"/\")[0]\n",
    "        new_corpus = PlaintextCorpusReader(class_data, file, encoding='latin-1')\n",
    "        df.loc[i] = [uni_str, file.split(\"/\")[1].split(\".\")[0], new_corpus.raw()]\n",
    "        i += 1\n",
    "        print(i,  end='\\r')\n",
    "    df.to_csv(\"raw_data.csv\", index=False)"
   ]
  },
  {
   "cell_type": "code",
   "execution_count": 3,
   "metadata": {},
   "outputs": [],
   "source": [
    "df = pd.read_csv(\"raw_data.csv\")"
   ]
  },
  {
   "cell_type": "markdown",
   "metadata": {},
   "source": [
    "Détection du langage des textes avec https://pypi.org/project/langdetect/\n",
    "\n",
    "Nous n'allons conserver que les cours ayant comme langage détecté le français."
   ]
  },
  {
   "cell_type": "code",
   "execution_count": 4,
   "metadata": {},
   "outputs": [],
   "source": [
    "from langdetect import detect\n",
    "\n",
    "if not path.exists(\"fr_only.csv\"):\n",
    "    df[\"lang\"] = df.apply( lambda row: detect(row[\"text\"]), axis=1)\n",
    "    df = df[df[\"lang\"] == \"fr\"]\n",
    "    df.to_csv(\"fr_only.csv\", index=False)\n",
    "df = pd.read_csv(\"fr_only.csv\")"
   ]
  },
  {
   "cell_type": "code",
   "execution_count": 5,
   "metadata": {},
   "outputs": [],
   "source": [
    "df = df.drop(columns=\"lang\")"
   ]
  },
  {
   "cell_type": "code",
   "execution_count": 6,
   "metadata": {},
   "outputs": [
    {
     "data": {
      "text/html": [
       "<div>\n",
       "<style scoped>\n",
       "    .dataframe tbody tr th:only-of-type {\n",
       "        vertical-align: middle;\n",
       "    }\n",
       "\n",
       "    .dataframe tbody tr th {\n",
       "        vertical-align: top;\n",
       "    }\n",
       "\n",
       "    .dataframe thead th {\n",
       "        text-align: right;\n",
       "    }\n",
       "</style>\n",
       "<table border=\"1\" class=\"dataframe\">\n",
       "  <thead>\n",
       "    <tr style=\"text-align: right;\">\n",
       "      <th></th>\n",
       "      <th>Unnamed: 0</th>\n",
       "      <th>uni</th>\n",
       "      <th>course</th>\n",
       "      <th>text</th>\n",
       "    </tr>\n",
       "  </thead>\n",
       "  <tbody>\n",
       "    <tr>\n",
       "      <td>0</td>\n",
       "      <td>0</td>\n",
       "      <td>HEC</td>\n",
       "      <td>1-404-96</td>\n",
       "      <td>TitreCours: Sociologie de l\\nDescriptionCours:...</td>\n",
       "    </tr>\n",
       "    <tr>\n",
       "      <td>1</td>\n",
       "      <td>1</td>\n",
       "      <td>HEC</td>\n",
       "      <td>1-407-00</td>\n",
       "      <td>TitreCours: Management\\nDescriptionCours: Ce c...</td>\n",
       "    </tr>\n",
       "    <tr>\n",
       "      <td>2</td>\n",
       "      <td>3</td>\n",
       "      <td>HEC</td>\n",
       "      <td>1-611-09</td>\n",
       "      <td>TitreCours: Modelisation et optimisation\\nDesc...</td>\n",
       "    </tr>\n",
       "    <tr>\n",
       "      <td>3</td>\n",
       "      <td>4</td>\n",
       "      <td>HEC</td>\n",
       "      <td>1-611-96</td>\n",
       "      <td>TitreCours: Modelisation et optimisation\\nDesc...</td>\n",
       "    </tr>\n",
       "    <tr>\n",
       "      <td>4</td>\n",
       "      <td>5</td>\n",
       "      <td>HEC</td>\n",
       "      <td>1-612-96</td>\n",
       "      <td>TitreCours: Mathematiques financieres\\nDescrip...</td>\n",
       "    </tr>\n",
       "    <tr>\n",
       "      <td>...</td>\n",
       "      <td>...</td>\n",
       "      <td>...</td>\n",
       "      <td>...</td>\n",
       "      <td>...</td>\n",
       "    </tr>\n",
       "    <tr>\n",
       "      <td>16050</td>\n",
       "      <td>16330</td>\n",
       "      <td>UdM</td>\n",
       "      <td>VNM1060H</td>\n",
       "      <td>TitreCours: Vietnamien elementaire 2\\nDescript...</td>\n",
       "    </tr>\n",
       "    <tr>\n",
       "      <td>16051</td>\n",
       "      <td>16331</td>\n",
       "      <td>UdM</td>\n",
       "      <td>VNM2050</td>\n",
       "      <td>TitreCours: Vietnamien intermediaire 1\\nDescri...</td>\n",
       "    </tr>\n",
       "    <tr>\n",
       "      <td>16052</td>\n",
       "      <td>16332</td>\n",
       "      <td>UdM</td>\n",
       "      <td>VNM2050H</td>\n",
       "      <td>TitreCours: Vietnamien intermediaire 1\\nDescri...</td>\n",
       "    </tr>\n",
       "    <tr>\n",
       "      <td>16053</td>\n",
       "      <td>16333</td>\n",
       "      <td>UdM</td>\n",
       "      <td>VNM2060</td>\n",
       "      <td>TitreCours: Vietnamien intermediaire 2\\nDescri...</td>\n",
       "    </tr>\n",
       "    <tr>\n",
       "      <td>16054</td>\n",
       "      <td>16334</td>\n",
       "      <td>UdM</td>\n",
       "      <td>VNM2060H</td>\n",
       "      <td>TitreCours: Vietnamien intermediaire 2\\nDescri...</td>\n",
       "    </tr>\n",
       "  </tbody>\n",
       "</table>\n",
       "<p>16055 rows × 4 columns</p>\n",
       "</div>"
      ],
      "text/plain": [
       "       Unnamed: 0  uni    course  \\\n",
       "0               0  HEC  1-404-96   \n",
       "1               1  HEC  1-407-00   \n",
       "2               3  HEC  1-611-09   \n",
       "3               4  HEC  1-611-96   \n",
       "4               5  HEC  1-612-96   \n",
       "...           ...  ...       ...   \n",
       "16050       16330  UdM  VNM1060H   \n",
       "16051       16331  UdM   VNM2050   \n",
       "16052       16332  UdM  VNM2050H   \n",
       "16053       16333  UdM   VNM2060   \n",
       "16054       16334  UdM  VNM2060H   \n",
       "\n",
       "                                                    text  \n",
       "0      TitreCours: Sociologie de l\\nDescriptionCours:...  \n",
       "1      TitreCours: Management\\nDescriptionCours: Ce c...  \n",
       "2      TitreCours: Modelisation et optimisation\\nDesc...  \n",
       "3      TitreCours: Modelisation et optimisation\\nDesc...  \n",
       "4      TitreCours: Mathematiques financieres\\nDescrip...  \n",
       "...                                                  ...  \n",
       "16050  TitreCours: Vietnamien elementaire 2\\nDescript...  \n",
       "16051  TitreCours: Vietnamien intermediaire 1\\nDescri...  \n",
       "16052  TitreCours: Vietnamien intermediaire 1\\nDescri...  \n",
       "16053  TitreCours: Vietnamien intermediaire 2\\nDescri...  \n",
       "16054  TitreCours: Vietnamien intermediaire 2\\nDescri...  \n",
       "\n",
       "[16055 rows x 4 columns]"
      ]
     },
     "execution_count": 6,
     "metadata": {},
     "output_type": "execute_result"
    }
   ],
   "source": [
    "df"
   ]
  },
  {
   "cell_type": "markdown",
   "metadata": {},
   "source": [
    "Utilisation d'un Tokenizer pour séparer les strings en mots.\n",
    "\n",
    "TweetTokenizer de nltk est à la base fait pour les tweets, donc traite le texte pouvant contenir des hashtags et autres particularité des tweets. Dans notre cas, ça ne change pas grand chose, il fera facilement le travail même le texte n'est pas des tweets."
   ]
  },
  {
   "cell_type": "code",
   "execution_count": 7,
   "metadata": {},
   "outputs": [],
   "source": [
    "from nltk.tokenize import TweetTokenizer\n",
    "tknzr = TweetTokenizer()\n",
    "tokens = df[\"text\"].apply(lambda x: tknzr.tokenize(x)).values"
   ]
  },
  {
   "cell_type": "markdown",
   "metadata": {},
   "source": [
    "Stemmer afin d'éliminer les tokens inutles"
   ]
  },
  {
   "cell_type": "code",
   "execution_count": 8,
   "metadata": {},
   "outputs": [],
   "source": [
    "from nltk.stem.snowball import SnowballStemmer\n",
    "import string\n",
    "from nltk.corpus import stopwords"
   ]
  },
  {
   "cell_type": "code",
   "execution_count": 9,
   "metadata": {},
   "outputs": [
    {
     "data": {
      "text/plain": [
       "['yeux', 'sociolog', '.', 'sour']"
      ]
     },
     "execution_count": 9,
     "metadata": {},
     "output_type": "execute_result"
    }
   ],
   "source": [
    "st = SnowballStemmer(\"french\", ignore_stopwords=True)\n",
    "[st.stem(word) for word in [\"Yeux\", \"Sociologie\", \".\", \"souris\"]]"
   ]
  },
  {
   "cell_type": "code",
   "execution_count": 10,
   "metadata": {},
   "outputs": [],
   "source": [
    "class Preprocessor:\n",
    "    def __init__(self, stem=True, punctuation=True, digit=True):\n",
    "        self.st = SnowballStemmer(\"french\", ignore_stopwords=True)\n",
    "        self.punctuations = set(string.punctuation)\n",
    "        self.stem = stem\n",
    "        self.punctuation = punctuation\n",
    "        self.digit = digit\n",
    "    \n",
    "    def raw_preprocess(self, token_list):\n",
    "        new_token_list = []\n",
    "        for token in token_list:\n",
    "            is_token_valid = True\n",
    "            token = token.lower()\n",
    "            \n",
    "            # stemming\n",
    "            if self.stem:\n",
    "                token = self.st.stem(token)\n",
    "\n",
    "            # punctuation filtering\n",
    "            if self.punctuation and token in self.punctuations:\n",
    "                is_token_valid = False\n",
    "\n",
    "            # digit filtering\n",
    "            elif self.digit and token.isdigit():\n",
    "                is_token_valid = False\n",
    "\n",
    "            # add token to new sub list\n",
    "            if is_token_valid:\n",
    "                new_token_list.append(token)\n",
    "        return new_token_list\n",
    "        \n",
    "    def preprocess_tokens(self, tokens):\n",
    "        new_tokens = []\n",
    "        for token_list in tokens:\n",
    "            new_tokens.append(self.raw_preprocess(token_list))\n",
    "        return new_tokens\n",
    "    \n",
    "def preprocess(tokens):\n",
    "    preprocessor = Preprocessor()\n",
    "    return preprocessor.preprocess_tokens(test)"
   ]
  },
  {
   "cell_type": "code",
   "execution_count": 11,
   "metadata": {},
   "outputs": [
    {
     "data": {
      "text/plain": [
       "[['sociolog',\n",
       "  'de',\n",
       "  'l',\n",
       "  'descriptioncour',\n",
       "  'trois',\n",
       "  'volet',\n",
       "  'principal',\n",
       "  'dans',\n",
       "  'ce',\n",
       "  'cour'],\n",
       " ['manag',\n",
       "  'descriptioncour',\n",
       "  'ce',\n",
       "  'cour',\n",
       "  'est',\n",
       "  'une',\n",
       "  'introduct',\n",
       "  'au',\n",
       "  'manag',\n",
       "  'et']]"
      ]
     },
     "execution_count": 11,
     "metadata": {},
     "output_type": "execute_result"
    }
   ],
   "source": [
    "test = [\n",
    "    ['Sociologie', 'de', 'l', 'DescriptionCours', ':', 'Trois', 'volets', 'principaux', 'dans', 'ce', 'cours'],\n",
    "    ['Management', 'DescriptionCours', ':', 'Ce', 'cours', 'est', 'une', 'introduction', 'au', 'management', 'et']\n",
    "]\n",
    "preprocessor = Preprocessor()\n",
    "preproc_test = preprocessor.preprocess_tokens(test)\n",
    "preproc_test"
   ]
  },
  {
   "cell_type": "markdown",
   "metadata": {},
   "source": [
    "TF-IDF"
   ]
  },
  {
   "cell_type": "code",
   "execution_count": 12,
   "metadata": {
    "scrolled": true
   },
   "outputs": [],
   "source": [
    "from sklearn.feature_extraction.text import TfidfVectorizer\n",
    "\n",
    "def identity_tokenizer(text):\n",
    "    return text\n",
    "\n",
    "vectorizer = TfidfVectorizer(preprocessor=preprocessor.raw_preprocess ,tokenizer=identity_tokenizer)\n",
    "#vectorizer = TfidfVectorizer(preprocessor=preprocessor.raw_preprocess)\n",
    "IDF_data = vectorizer.fit_transform(tokens)"
   ]
  },
  {
   "cell_type": "code",
   "execution_count": 13,
   "metadata": {},
   "outputs": [
    {
     "data": {
      "text/plain": [
       "<16055x21286 sparse matrix of type '<class 'numpy.float64'>'\n",
       "\twith 713904 stored elements in Compressed Sparse Row format>"
      ]
     },
     "execution_count": 13,
     "metadata": {},
     "output_type": "execute_result"
    }
   ],
   "source": [
    "IDF_data"
   ]
  },
  {
   "cell_type": "markdown",
   "metadata": {},
   "source": [
    "SVD"
   ]
  },
  {
   "cell_type": "code",
   "execution_count": 14,
   "metadata": {},
   "outputs": [
    {
     "data": {
      "text/plain": [
       "TruncatedSVD(algorithm='randomized', n_components=50, n_iter=100,\n",
       "             random_state=None, tol=0.0)"
      ]
     },
     "execution_count": 14,
     "metadata": {},
     "output_type": "execute_result"
    }
   ],
   "source": [
    "from sklearn.decomposition import TruncatedSVD\n",
    "svd = TruncatedSVD(n_components=50, algorithm='randomized', n_iter=100)\n",
    "svd.fit(IDF_data)"
   ]
  },
  {
   "cell_type": "code",
   "execution_count": 15,
   "metadata": {},
   "outputs": [
    {
     "data": {
      "text/plain": [
       "0.1837329351690285"
      ]
     },
     "execution_count": 15,
     "metadata": {},
     "output_type": "execute_result"
    }
   ],
   "source": [
    "sum(svd.explained_variance_)"
   ]
  },
  {
   "cell_type": "code",
   "execution_count": 16,
   "metadata": {},
   "outputs": [],
   "source": [
    "SVD_data = svd.transform(IDF_data)"
   ]
  },
  {
   "cell_type": "markdown",
   "metadata": {},
   "source": [
    "## 1. Quels sont les 10 cours les plus similaires à LOG2420 dans l'espace réduit à 50 dimensions? (8 pts.) Prenez le cosinus comme mesure de similarité. "
   ]
  },
  {
   "cell_type": "code",
   "execution_count": 17,
   "metadata": {},
   "outputs": [],
   "source": [
    "LOG2420_idx = df.index[df[\"course\"] == 'LOG2420'][0]"
   ]
  },
  {
   "cell_type": "code",
   "execution_count": 18,
   "metadata": {},
   "outputs": [],
   "source": [
    "from sklearn.metrics.pairwise import cosine_similarity\n",
    "cos_matrix = cosine_similarity(SVD_data)"
   ]
  },
  {
   "cell_type": "code",
   "execution_count": 76,
   "metadata": {},
   "outputs": [],
   "source": [
    "log_2420_cos = cos_matrix[LOG2420_idx]\n",
    "log_2420_sorted_cos = np.sort(log_2420_cos)"
   ]
  },
  {
   "cell_type": "code",
   "execution_count": 77,
   "metadata": {},
   "outputs": [],
   "source": [
    "recommendations_cos = log_2420_sorted_cos[::-1][1:11] #[::-1] reverses the list, and [1:11] takes the 10 firsts ignoring the very first one which is the course itself"
   ]
  },
  {
   "cell_type": "code",
   "execution_count": 78,
   "metadata": {},
   "outputs": [],
   "source": [
    "recommendations_indexes = [np.where(log_2420_cos == reco)[0][0] for reco in recommendations_cos]"
   ]
  },
  {
   "cell_type": "code",
   "execution_count": 79,
   "metadata": {},
   "outputs": [
    {
     "data": {
      "text/html": [
       "<div>\n",
       "<style scoped>\n",
       "    .dataframe tbody tr th:only-of-type {\n",
       "        vertical-align: middle;\n",
       "    }\n",
       "\n",
       "    .dataframe tbody tr th {\n",
       "        vertical-align: top;\n",
       "    }\n",
       "\n",
       "    .dataframe thead th {\n",
       "        text-align: right;\n",
       "    }\n",
       "</style>\n",
       "<table border=\"1\" class=\"dataframe\">\n",
       "  <thead>\n",
       "    <tr style=\"text-align: right;\">\n",
       "      <th></th>\n",
       "      <th>Unnamed: 0</th>\n",
       "      <th>uni</th>\n",
       "      <th>course</th>\n",
       "      <th>text</th>\n",
       "    </tr>\n",
       "  </thead>\n",
       "  <tbody>\n",
       "    <tr>\n",
       "      <td>1669</td>\n",
       "      <td>1888</td>\n",
       "      <td>Poly</td>\n",
       "      <td>LOG1000</td>\n",
       "      <td>TitreCours: Ingenierie logicielle\\nDescription...</td>\n",
       "    </tr>\n",
       "    <tr>\n",
       "      <td>1585</td>\n",
       "      <td>1804</td>\n",
       "      <td>Poly</td>\n",
       "      <td>INF1005C</td>\n",
       "      <td>TitreCours: Programmation procedurale\\nDescrip...</td>\n",
       "    </tr>\n",
       "    <tr>\n",
       "      <td>1584</td>\n",
       "      <td>1803</td>\n",
       "      <td>Poly</td>\n",
       "      <td>INF1005B</td>\n",
       "      <td>TitreCours: Programmation procedurale\\nDescrip...</td>\n",
       "    </tr>\n",
       "    <tr>\n",
       "      <td>1583</td>\n",
       "      <td>1802</td>\n",
       "      <td>Poly</td>\n",
       "      <td>INF1005A</td>\n",
       "      <td>TitreCours: Programmation procedurale\\nDescrip...</td>\n",
       "    </tr>\n",
       "    <tr>\n",
       "      <td>1660</td>\n",
       "      <td>1879</td>\n",
       "      <td>Poly</td>\n",
       "      <td>INF8701</td>\n",
       "      <td>TitreCours: Simulation des systemes a evenem. ...</td>\n",
       "    </tr>\n",
       "    <tr>\n",
       "      <td>967</td>\n",
       "      <td>1186</td>\n",
       "      <td>Poly</td>\n",
       "      <td>AE4500</td>\n",
       "      <td>TitreCours: Informatique embarque\\nDescription...</td>\n",
       "    </tr>\n",
       "    <tr>\n",
       "      <td>1670</td>\n",
       "      <td>1889</td>\n",
       "      <td>Poly</td>\n",
       "      <td>LOG2410</td>\n",
       "      <td>TitreCours: Conception logicielle\\nDescription...</td>\n",
       "    </tr>\n",
       "    <tr>\n",
       "      <td>1682</td>\n",
       "      <td>1901</td>\n",
       "      <td>Poly</td>\n",
       "      <td>LOG4430</td>\n",
       "      <td>TitreCours: Architecture logicielle et concept...</td>\n",
       "    </tr>\n",
       "    <tr>\n",
       "      <td>1552</td>\n",
       "      <td>1771</td>\n",
       "      <td>Poly</td>\n",
       "      <td>IND6402</td>\n",
       "      <td>TitreCours: Interfaces humains-ordinateurs\\nDe...</td>\n",
       "    </tr>\n",
       "    <tr>\n",
       "      <td>1658</td>\n",
       "      <td>1877</td>\n",
       "      <td>Poly</td>\n",
       "      <td>INF8500</td>\n",
       "      <td>TitreCours: Systemes embarques:conception et v...</td>\n",
       "    </tr>\n",
       "  </tbody>\n",
       "</table>\n",
       "</div>"
      ],
      "text/plain": [
       "      Unnamed: 0   uni    course  \\\n",
       "1669        1888  Poly   LOG1000   \n",
       "1585        1804  Poly  INF1005C   \n",
       "1584        1803  Poly  INF1005B   \n",
       "1583        1802  Poly  INF1005A   \n",
       "1660        1879  Poly   INF8701   \n",
       "967         1186  Poly    AE4500   \n",
       "1670        1889  Poly   LOG2410   \n",
       "1682        1901  Poly   LOG4430   \n",
       "1552        1771  Poly   IND6402   \n",
       "1658        1877  Poly   INF8500   \n",
       "\n",
       "                                                   text  \n",
       "1669  TitreCours: Ingenierie logicielle\\nDescription...  \n",
       "1585  TitreCours: Programmation procedurale\\nDescrip...  \n",
       "1584  TitreCours: Programmation procedurale\\nDescrip...  \n",
       "1583  TitreCours: Programmation procedurale\\nDescrip...  \n",
       "1660  TitreCours: Simulation des systemes a evenem. ...  \n",
       "967   TitreCours: Informatique embarque\\nDescription...  \n",
       "1670  TitreCours: Conception logicielle\\nDescription...  \n",
       "1682  TitreCours: Architecture logicielle et concept...  \n",
       "1552  TitreCours: Interfaces humains-ordinateurs\\nDe...  \n",
       "1658  TitreCours: Systemes embarques:conception et v...  "
      ]
     },
     "execution_count": 79,
     "metadata": {},
     "output_type": "execute_result"
    }
   ],
   "source": [
    "df.loc[list(recommendations_indexes)]"
   ]
  },
  {
   "cell_type": "markdown",
   "metadata": {},
   "source": [
    "On peut voir que les calculs semblent fonctionner. Les cours recommandés sont tous des cours en rapport au logiciel et à l'informatique, et sont tous à polytechnique. Cela confirme que l'approche focntionne correctment."
   ]
  },
  {
   "cell_type": "markdown",
   "metadata": {},
   "source": [
    "## 2. Effectuez une classification de cours par une approche supervisée (4 pts.) Pour établir les libellés de classes, prenez les acronymes de cours commençant par PSY (psychologie) et PHY (physique). Calculez les centroides de chaque classe (PSY et PHY) des données d'entraînement et calculez l'aire sous la courbe ROC pour la prédiction de données de test (AUC, Area Under receiver operator Curve). "
   ]
  },
  {
   "cell_type": "markdown",
   "metadata": {},
   "source": [
    "Ajout d'une colonne au dataframe permettant de déterminer si un cours est un cours de physique (PHY) ou un cours de psychologie (PSY)."
   ]
  },
  {
   "cell_type": "code",
   "execution_count": 22,
   "metadata": {},
   "outputs": [
    {
     "name": "stderr",
     "output_type": "stream",
     "text": [
      "/home/fabrice/.local/lib/python3.7/site-packages/ipykernel_launcher.py:4: SettingWithCopyWarning: \n",
      "A value is trying to be set on a copy of a slice from a DataFrame.\n",
      "Try using .loc[row_indexer,col_indexer] = value instead\n",
      "\n",
      "See the caveats in the documentation: http://pandas.pydata.org/pandas-docs/stable/user_guide/indexing.html#returning-a-view-versus-a-copy\n",
      "  after removing the cwd from sys.path.\n"
     ]
    },
    {
     "data": {
      "text/html": [
       "<div>\n",
       "<style scoped>\n",
       "    .dataframe tbody tr th:only-of-type {\n",
       "        vertical-align: middle;\n",
       "    }\n",
       "\n",
       "    .dataframe tbody tr th {\n",
       "        vertical-align: top;\n",
       "    }\n",
       "\n",
       "    .dataframe thead th {\n",
       "        text-align: right;\n",
       "    }\n",
       "</style>\n",
       "<table border=\"1\" class=\"dataframe\">\n",
       "  <thead>\n",
       "    <tr style=\"text-align: right;\">\n",
       "      <th></th>\n",
       "      <th>Unnamed: 0</th>\n",
       "      <th>uni</th>\n",
       "      <th>course</th>\n",
       "      <th>text</th>\n",
       "      <th>PSY</th>\n",
       "    </tr>\n",
       "  </thead>\n",
       "  <tbody>\n",
       "    <tr>\n",
       "      <td>7633</td>\n",
       "      <td>7891</td>\n",
       "      <td>UQAM</td>\n",
       "      <td>PHY0350</td>\n",
       "      <td>TitreCours: Introduction a la mecanique genera...</td>\n",
       "      <td>False</td>\n",
       "    </tr>\n",
       "    <tr>\n",
       "      <td>7634</td>\n",
       "      <td>7892</td>\n",
       "      <td>UQAM</td>\n",
       "      <td>PHY1011</td>\n",
       "      <td>TitreCours: L\\nDescriptionCours: Ce cours s'ad...</td>\n",
       "      <td>False</td>\n",
       "    </tr>\n",
       "    <tr>\n",
       "      <td>7635</td>\n",
       "      <td>7893</td>\n",
       "      <td>UQAM</td>\n",
       "      <td>PHY1020</td>\n",
       "      <td>TitreCours: Les systemes physiques\\nDescriptio...</td>\n",
       "      <td>False</td>\n",
       "    </tr>\n",
       "    <tr>\n",
       "      <td>7636</td>\n",
       "      <td>7894</td>\n",
       "      <td>UQAM</td>\n",
       "      <td>PHY1030</td>\n",
       "      <td>TitreCours: La physique des interactions et de...</td>\n",
       "      <td>False</td>\n",
       "    </tr>\n",
       "    <tr>\n",
       "      <td>7637</td>\n",
       "      <td>7895</td>\n",
       "      <td>UQAM</td>\n",
       "      <td>PHY1050</td>\n",
       "      <td>TitreCours: Mecanique\\nDescriptionCours: Ce co...</td>\n",
       "      <td>False</td>\n",
       "    </tr>\n",
       "    <tr>\n",
       "      <td>...</td>\n",
       "      <td>...</td>\n",
       "      <td>...</td>\n",
       "      <td>...</td>\n",
       "      <td>...</td>\n",
       "      <td>...</td>\n",
       "    </tr>\n",
       "    <tr>\n",
       "      <td>15102</td>\n",
       "      <td>15379</td>\n",
       "      <td>UdM</td>\n",
       "      <td>PSY3299</td>\n",
       "      <td>TitreCours: Stage d'initiation a la psychologi...</td>\n",
       "      <td>True</td>\n",
       "    </tr>\n",
       "    <tr>\n",
       "      <td>15103</td>\n",
       "      <td>15380</td>\n",
       "      <td>UdM</td>\n",
       "      <td>PSY3952</td>\n",
       "      <td>TitreCours: Psychologie en readaptation\\nDescr...</td>\n",
       "      <td>True</td>\n",
       "    </tr>\n",
       "    <tr>\n",
       "      <td>15104</td>\n",
       "      <td>15381</td>\n",
       "      <td>UdM</td>\n",
       "      <td>PSY3954</td>\n",
       "      <td>TitreCours: Methodes d'entrevue en sante\\nDesc...</td>\n",
       "      <td>True</td>\n",
       "    </tr>\n",
       "    <tr>\n",
       "      <td>15105</td>\n",
       "      <td>15382</td>\n",
       "      <td>UdM</td>\n",
       "      <td>PSY4000</td>\n",
       "      <td>TitreCours: Projet de recherche Honor\\nDescrip...</td>\n",
       "      <td>True</td>\n",
       "    </tr>\n",
       "    <tr>\n",
       "      <td>15106</td>\n",
       "      <td>15383</td>\n",
       "      <td>UdM</td>\n",
       "      <td>PSY4001</td>\n",
       "      <td>TitreCours: Methodes de recherche avancees\\nDe...</td>\n",
       "      <td>True</td>\n",
       "    </tr>\n",
       "  </tbody>\n",
       "</table>\n",
       "<p>521 rows × 5 columns</p>\n",
       "</div>"
      ],
      "text/plain": [
       "       Unnamed: 0   uni   course  \\\n",
       "7633         7891  UQAM  PHY0350   \n",
       "7634         7892  UQAM  PHY1011   \n",
       "7635         7893  UQAM  PHY1020   \n",
       "7636         7894  UQAM  PHY1030   \n",
       "7637         7895  UQAM  PHY1050   \n",
       "...           ...   ...      ...   \n",
       "15102       15379   UdM  PSY3299   \n",
       "15103       15380   UdM  PSY3952   \n",
       "15104       15381   UdM  PSY3954   \n",
       "15105       15382   UdM  PSY4000   \n",
       "15106       15383   UdM  PSY4001   \n",
       "\n",
       "                                                    text    PSY  \n",
       "7633   TitreCours: Introduction a la mecanique genera...  False  \n",
       "7634   TitreCours: L\\nDescriptionCours: Ce cours s'ad...  False  \n",
       "7635   TitreCours: Les systemes physiques\\nDescriptio...  False  \n",
       "7636   TitreCours: La physique des interactions et de...  False  \n",
       "7637   TitreCours: Mecanique\\nDescriptionCours: Ce co...  False  \n",
       "...                                                  ...    ...  \n",
       "15102  TitreCours: Stage d'initiation a la psychologi...   True  \n",
       "15103  TitreCours: Psychologie en readaptation\\nDescr...   True  \n",
       "15104  TitreCours: Methodes d'entrevue en sante\\nDesc...   True  \n",
       "15105  TitreCours: Projet de recherche Honor\\nDescrip...   True  \n",
       "15106  TitreCours: Methodes de recherche avancees\\nDe...   True  \n",
       "\n",
       "[521 rows x 5 columns]"
      ]
     },
     "execution_count": 22,
     "metadata": {},
     "output_type": "execute_result"
    }
   ],
   "source": [
    "mask = ((df[\"course\"].astype(str).str[:3] == \"PSY\") | (df[\"course\"].astype(str).str[:3] == \"PHY\"))\n",
    "class_df = df[mask]\n",
    "\n",
    "class_df[\"PSY\"] = df[\"course\"].astype(str).str[:3] == \"PSY\"\n",
    "class_df"
   ]
  },
  {
   "cell_type": "markdown",
   "metadata": {},
   "source": [
    "L'étape suivante permet de récupérer les données qui correspondent aux cours PHY et PSY. Cette fonction sera utilisée plus tard afin d'obtenir facilement les données voulues selon le type de données (tokens, IDF, SVD, ...) d'une matrice contenant l'ensemble du jeu de données (tous les cours).\n"
   ]
  },
  {
   "cell_type": "code",
   "execution_count": 23,
   "metadata": {},
   "outputs": [],
   "source": [
    "PHY_PSY_indexes = list(class_df.index.values)"
   ]
  },
  {
   "cell_type": "code",
   "execution_count": 24,
   "metadata": {},
   "outputs": [],
   "source": [
    "def retrieve_PHY_PSY(full_data):\n",
    "    PHY_PSY_data = []\n",
    "    for index in PHY_PSY_indexes:\n",
    "        PHY_PSY_data.append(full_data[index])\n",
    "    return  np.array(PHY_PSY_data)"
   ]
  },
  {
   "cell_type": "code",
   "execution_count": 25,
   "metadata": {},
   "outputs": [],
   "source": [
    "X_data = retrieve_PHY_PSY(SVD_data)"
   ]
  },
  {
   "cell_type": "code",
   "execution_count": 26,
   "metadata": {},
   "outputs": [],
   "source": [
    "y_data = class_df[\"PSY\"].values"
   ]
  },
  {
   "cell_type": "code",
   "execution_count": 27,
   "metadata": {},
   "outputs": [
    {
     "data": {
      "text/plain": [
       "521"
      ]
     },
     "execution_count": 27,
     "metadata": {},
     "output_type": "execute_result"
    }
   ],
   "source": [
    "len(X_data)"
   ]
  },
  {
   "cell_type": "code",
   "execution_count": 28,
   "metadata": {},
   "outputs": [
    {
     "data": {
      "text/plain": [
       "521"
      ]
     },
     "execution_count": 28,
     "metadata": {},
     "output_type": "execute_result"
    }
   ],
   "source": [
    "len(y_data)"
   ]
  },
  {
   "cell_type": "code",
   "execution_count": 29,
   "metadata": {},
   "outputs": [
    {
     "data": {
      "text/plain": [
       "407"
      ]
     },
     "execution_count": 29,
     "metadata": {},
     "output_type": "execute_result"
    }
   ],
   "source": [
    "n_positives = 0\n",
    "for y in y_data:\n",
    "    if y:\n",
    "        n_positives += 1\n",
    "n_positives"
   ]
  },
  {
   "cell_type": "markdown",
   "metadata": {},
   "source": [
    "Il est intéressant de noter que 407 sur 521 des cours sont des cours de psychologie, représentant près de 80% du sous-ensemble de cours."
   ]
  },
  {
   "cell_type": "code",
   "execution_count": 30,
   "metadata": {},
   "outputs": [
    {
     "data": {
      "text/plain": [
       "0.781190019193858"
      ]
     },
     "execution_count": 30,
     "metadata": {},
     "output_type": "execute_result"
    }
   ],
   "source": [
    "# proportion de cours de psychologie\n",
    "n_positives/len(y_data)"
   ]
  },
  {
   "cell_type": "markdown",
   "metadata": {},
   "source": [
    "Maintenant que l'on a les données correctement organisées avec `X_data` étant les tokens *processed* par TF-IDF et SVD et `y_data` les *labels* (réponses) correspondant à si un cours porte sur la psychologie ou non, nous allons appliquer un modèle de classification semblable à ce qui est demandé (calculer des centroïdes et calculer des distances). L'algorithme utilisé est celui des plus proches voisins, avec ici 20 voisins pris en compte. Les calculs effectués derrière la librairie *sklearn*  classifie un cours avec la moyenne de la classe des 20 plus proches voisins, déterminés avec la distance euclidienne.\n",
    "\n",
    "tiré de https://stackoverflow.com/questions/52910061/implementing-roc-curves-for-k-nn-machine-learning-algorithm-using-python-and-sci/52910821"
   ]
  },
  {
   "cell_type": "code",
   "execution_count": 31,
   "metadata": {},
   "outputs": [],
   "source": [
    "from sklearn.model_selection import train_test_split\n",
    "X_train, X_test, y_train, y_test = train_test_split(X_data, y_data, test_size=0.4, random_state=42)"
   ]
  },
  {
   "cell_type": "code",
   "execution_count": 32,
   "metadata": {},
   "outputs": [
    {
     "name": "stdout",
     "output_type": "stream",
     "text": [
      "312\n",
      "209\n"
     ]
    }
   ],
   "source": [
    "print(len(X_train))\n",
    "print(len(X_test))"
   ]
  },
  {
   "cell_type": "markdown",
   "metadata": {},
   "source": [
    "Ici, la taille du jeu de données de test est de 40% du jeu de données entier. Cela est plus grand que la norme: on s'attendrait plutôt à 30% ou 20% des données pour le jeu de test. Cependant, selon quelques expérimentations faites au préalable, nous avons remarqué que le modèle est capable de s'entraîner sur seulement 60% des données et donne de très bons résultats malgré cela. On peut expliquer ce phénomène en supposant que le modèle *overfit* sur les données et ne donne alors pas nécessairement de meilleurs résultats même avec un plus grand jeu de données d'entraînement."
   ]
  },
  {
   "cell_type": "code",
   "execution_count": 80,
   "metadata": {},
   "outputs": [],
   "source": [
    "from sklearn.neighbors import KNeighborsClassifier\n",
    "\n",
    "knn_classifier = KNeighborsClassifier(n_neighbors=20)\n",
    "knn_classifier.fit(X_train, y_train)\n",
    "\n",
    "y_scores = knn_classifier.predict_proba(X_test)"
   ]
  },
  {
   "cell_type": "code",
   "execution_count": 81,
   "metadata": {},
   "outputs": [
    {
     "data": {
      "text/plain": [
       "array([[0.05, 0.95],\n",
       "       [0.05, 0.95],\n",
       "       [1.  , 0.  ],\n",
       "       [0.  , 1.  ],\n",
       "       [0.  , 1.  ],\n",
       "       [0.3 , 0.7 ],\n",
       "       [0.35, 0.65],\n",
       "       [0.1 , 0.9 ],\n",
       "       [0.05, 0.95],\n",
       "       [0.4 , 0.6 ]])"
      ]
     },
     "execution_count": 81,
     "metadata": {},
     "output_type": "execute_result"
    }
   ],
   "source": [
    "y_scores[:10]"
   ]
  },
  {
   "cell_type": "code",
   "execution_count": 82,
   "metadata": {},
   "outputs": [
    {
     "data": {
      "text/plain": [
       "array([ True,  True, False,  True,  True,  True,  True,  True,  True,\n",
       "        True])"
      ]
     },
     "execution_count": 82,
     "metadata": {},
     "output_type": "execute_result"
    }
   ],
   "source": [
    "y_test[:10]"
   ]
  },
  {
   "cell_type": "markdown",
   "metadata": {},
   "source": [
    "On peut déjà voir que le modèle semble bien identifier les cours."
   ]
  },
  {
   "cell_type": "code",
   "execution_count": 83,
   "metadata": {},
   "outputs": [],
   "source": [
    "from sklearn.metrics import roc_curve\n",
    "from sklearn.metrics import auc\n",
    "\n",
    "false_positive_rate, true_positive_rate, threshold = roc_curve(y_test, y_scores[:, 1])\n",
    "roc_auc = auc(false_positive_rate, true_positive_rate)"
   ]
  },
  {
   "cell_type": "code",
   "execution_count": 84,
   "metadata": {},
   "outputs": [],
   "source": [
    "def plot_ROC_AUC(FP_rate, TP_rate, AUC):\n",
    "    plt.plot(FP_rate, TP_rate, 'g', label = 'AUC = %0.3f' % AUC)\n",
    "    plt.legend()\n",
    "    plt.plot([0, 1], [0, 1], 'y--')\n",
    "    plt.xlim([-0.1, 1])\n",
    "    plt.ylim([0, 1.1])\n",
    "    plt.ylabel('True Positive Rate')\n",
    "    plt.xlabel('False Positive Rate')\n",
    "    plt.title('ROC Curve')\n",
    "    plt.show()"
   ]
  },
  {
   "cell_type": "code",
   "execution_count": 85,
   "metadata": {},
   "outputs": [
    {
     "data": {
      "image/png": "[encoded data removed]",
      "text/plain": [
       "<Figure size 460.8x403.2 with 1 Axes>"
      ]
     },
     "metadata": {},
     "output_type": "display_data"
    }
   ],
   "source": [
    "plot_ROC_AUC(false_positive_rate, true_positive_rate, roc_auc)"
   ]
  },
  {
   "cell_type": "markdown",
   "metadata": {},
   "source": [
    "On remarque que l'AUC est excellent. Étant très près de 1, cela indique que le modèle classifie correctement la grande majorité des cours du jeu de données de test, et ce, avec un faible taux de faux positifs."
   ]
  },
  {
   "cell_type": "markdown",
   "metadata": {},
   "source": [
    "##  3. Effectuez une agglomération par k-means (k=2) et vérifiez si les classes PHY et PSY sont bien séparées par cette méthode (4 pts.).\n",
    "\n",
    "2019.11.15. n.b. les questions 3 et 4 sont inversées par rapport à la version précédente.\n",
    "Une approche non supervisée est adoptée ici, car nous n'utiliserons pas les \"classes\" PHY et PSY pour l'entraînement mais seulement pour le test.\n",
    "\n",
    "Utilisez kmeans avec deux classes pour agglomérer les 521 cours PSY et PHY. Vérifiez si la classification correspond dans une bonne mesure aux deux ensembles de cours. Calculez la précision, le score F1 et finalement l'AUC avec la même méthode qu'à la question 2.\n",
    "\n",
    "À noter qu'à cette étape, la classification donnée par le Knn peut être inattendue, mais l'AUC devrait être aux alentours de 0,75.\n"
   ]
  },
  {
   "cell_type": "markdown",
   "metadata": {},
   "source": [
    "Nous allons aborder le problème avec l'ensemble du jeu de données déjà *preprocessed* et tenter d'obtenir l'AUC directement."
   ]
  },
  {
   "cell_type": "code",
   "execution_count": 86,
   "metadata": {},
   "outputs": [
    {
     "data": {
      "text/plain": [
       "474"
      ]
     },
     "execution_count": 86,
     "metadata": {},
     "output_type": "execute_result"
    }
   ],
   "source": [
    "from sklearn.cluster import KMeans\n",
    "# deterministic\n",
    "kmeans = KMeans(n_clusters=2, random_state=0).fit(X_data)\n",
    "#kmeans = KMeans(n_clusters=2).fit(X_data)\n",
    "labels = kmeans.labels_\n",
    "sum(labels)"
   ]
  },
  {
   "cell_type": "code",
   "execution_count": 90,
   "metadata": {},
   "outputs": [
    {
     "data": {
      "text/plain": [
       "67"
      ]
     },
     "execution_count": 90,
     "metadata": {},
     "output_type": "execute_result"
    }
   ],
   "source": [
    "sum(labels) - n_positives"
   ]
  },
  {
   "cell_type": "markdown",
   "metadata": {},
   "source": [
    "Déjà avec le nombre de cours compris dans le cluster 1, il est clair que l'approche non supervisée ne performera pas très bien. Avec 474 cours sur 521 dans le même cluster alors que l'on s'attendrait à 407 cours (le vrai nombre de cours de psychologie), on peut déjà affirmer que 67 cours ne seront pas correctement prédits."
   ]
  },
  {
   "cell_type": "code",
   "execution_count": 87,
   "metadata": {},
   "outputs": [
    {
     "data": {
      "image/png": "[encoded data removed]",
      "text/plain": [
       "<Figure size 460.8x403.2 with 1 Axes>"
      ]
     },
     "metadata": {},
     "output_type": "display_data"
    }
   ],
   "source": [
    "false_positive_rate, true_positive_rate, threshold = roc_curve(y_data, labels)\n",
    "roc_auc = auc(false_positive_rate, true_positive_rate)\n",
    "plot_ROC_AUC(false_positive_rate, true_positive_rate, roc_auc)"
   ]
  },
  {
   "cell_type": "markdown",
   "metadata": {},
   "source": [
    "Puisque les labels ne contiennent que 2 valeurs possibles, soit 0 et 1, il n'est pas possible d'obtenir une belle courbe ROC avec plus de 3 points. C'est pourquoi nous allons plutôt utiliser une probabilité au cluster attribué en calculant la distance entre les points et les centres finaux.\n",
    "\n",
    "De plus, on peut voir que l'AUC est sous 0.5, ce qui signifie qu'une attribution aléatoire serait meilleure que les clusters de kmeans. Cela n'a pas vraiment de sens: il faut également prendre en compte que kmeans ne connait pas les labels réels et attribue la valeur 1 et 0 à ses deux clusters de façon aléatoire, et que de meilleurs résultats pourraient donc être obtenus en inversant simplement les 1 et les 0 donnés par kmeans. Les calculs subséquents prendront en compte cette particularité en inversant les valeurs des clusters si l'AUC résultante est inférieure à 0.5."
   ]
  },
  {
   "cell_type": "markdown",
   "metadata": {},
   "source": [
    "Les fonctions suivantes permettent de:\n",
    "\n",
    "    - calculer la distance entre deux points (deux cours *processed* résultant du preprocessing, TF-IDF et SVD)\n",
    "    - calculer un score de probabilité selon les distances entre les deux centroïdes et le point, indiquant une \"confiance\" du modèle à attribuer un cluster à un point\n",
    "    - transformer un array de labels donné par kmeans de sklearn ne contenant que des 1 et des 0 en un array de probabilité entre 0 et 1"
   ]
  },
  {
   "cell_type": "code",
   "execution_count": 41,
   "metadata": {},
   "outputs": [],
   "source": [
    "def distance(center, point):\n",
    "    return np.linalg.norm(center-point)\n",
    "\n",
    "# This returns a score between 0 and 0.5 because we know the distance between the point's cluster and the cluster's center is less than the distance with the other cluster's center (by the nature of kmeans)\n",
    "def score_proba(center, other_center, point):\n",
    "    within_dist = distance(center, point)\n",
    "    total_distances = within_dist + distance(other_center, point)\n",
    "    return within_dist / total_distances"
   ]
  },
  {
   "cell_type": "code",
   "execution_count": 42,
   "metadata": {},
   "outputs": [],
   "source": [
    "def labels_to_probas(centers, labels, points):\n",
    "    probas = []\n",
    "    for i in range(len(points)):\n",
    "        point = points[i]\n",
    "        label = labels[i]\n",
    "        center = centers[label]\n",
    "        other_center = centers[0]\n",
    "        if label == 0:\n",
    "            other_center = centers[1]\n",
    "        proba = score_proba(center, other_center, point)\n",
    "        if label == 1:\n",
    "            proba = 1 - proba\n",
    "        probas.append(proba)\n",
    "    return probas"
   ]
  },
  {
   "cell_type": "code",
   "execution_count": 43,
   "metadata": {},
   "outputs": [],
   "source": [
    "centers = kmeans.cluster_centers_\n",
    "probas = labels_to_probas(centers, labels, X_data)"
   ]
  },
  {
   "cell_type": "markdown",
   "metadata": {},
   "source": [
    "Les fonctions qui suivent permettent de:\n",
    "\n",
    "    - inverser les prédictions (utilisé dans le cas où l'AUC est inférieur à 0.5)\n",
    "    - exécuter le code nécessaire pour calculer l'AUC, le recalculer en ayant fait les modifications si celui-ci est inférieur à 0.5, puis de tracer un graphe\n",
    "    "
   ]
  },
  {
   "cell_type": "code",
   "execution_count": 44,
   "metadata": {},
   "outputs": [],
   "source": [
    "def reverse_predictions(predictions):\n",
    "    new_predictions = []\n",
    "    for pred in predictions:\n",
    "        new_predictions.append(1 - pred)\n",
    "    return new_predictions"
   ]
  },
  {
   "cell_type": "code",
   "execution_count": 45,
   "metadata": {},
   "outputs": [],
   "source": [
    "def roc_curve_wrapper(actual, predictions):\n",
    "    false_positive_rate, true_positive_rate, threshold = roc_curve(actual, predictions)\n",
    "    roc_auc = auc(false_positive_rate, true_positive_rate)\n",
    "    # if AUC is less than 0.5 just reverse all predictions\n",
    "    if roc_auc < 0.5:\n",
    "        predictions = reverse_predictions(predictions)\n",
    "        false_positive_rate, true_positive_rate, threshold = roc_curve(actual, predictions)\n",
    "        roc_auc = auc(false_positive_rate, true_positive_rate)\n",
    "        \n",
    "    plot_ROC_AUC(false_positive_rate, true_positive_rate, roc_auc)    "
   ]
  },
  {
   "cell_type": "code",
   "execution_count": 70,
   "metadata": {},
   "outputs": [
    {
     "data": {
      "image/png": "[encoded data removed]",
      "text/plain": [
       "<Figure size 460.8x403.2 with 1 Axes>"
      ]
     },
     "metadata": {},
     "output_type": "display_data"
    }
   ],
   "source": [
    "roc_curve_wrapper(y_data, probas)"
   ]
  },
  {
   "cell_type": "markdown",
   "metadata": {},
   "source": [
    "L'AUC est maintenant bel et bien supérieur à 0.5 et on peut mieux observer son comportement en ayant maintenant des probabilités plutôt que simplement les labels données par kmeans. Cependant, la valeur de 0.625 est relativement basse.\n",
    "\n",
    "\n",
    "Afin d'améliorer davantage les résultats, nous allons commencer le processing directement sur uniquement les cours PHY et PSY (TF-IDF et SVD) afin de réduire les mots et les dimensions à uniquement ce que comprend les descriptions de ces cours et non l'ensemble de tous les cours."
   ]
  },
  {
   "cell_type": "code",
   "execution_count": 47,
   "metadata": {},
   "outputs": [],
   "source": [
    "PHY_PSY_tokens = retrieve_PHY_PSY(tokens)"
   ]
  },
  {
   "cell_type": "code",
   "execution_count": 48,
   "metadata": {},
   "outputs": [],
   "source": [
    "PHY_PSY_TFIDF = vectorizer.fit_transform(PHY_PSY_tokens)"
   ]
  },
  {
   "cell_type": "code",
   "execution_count": 49,
   "metadata": {},
   "outputs": [
    {
     "data": {
      "text/plain": [
       "<521x3176 sparse matrix of type '<class 'numpy.float64'>'\n",
       "\twith 22166 stored elements in Compressed Sparse Row format>"
      ]
     },
     "execution_count": 49,
     "metadata": {},
     "output_type": "execute_result"
    }
   ],
   "source": [
    "PHY_PSY_TFIDF"
   ]
  },
  {
   "cell_type": "code",
   "execution_count": 50,
   "metadata": {},
   "outputs": [],
   "source": [
    "svd = TruncatedSVD(n_components=50, \n",
    "                   algorithm='randomized', \n",
    "                   n_iter=50\n",
    "                  )\n",
    "svd.fit(PHY_PSY_TFIDF)\n",
    "PHY_PSY_SVD = svd.transform(PHY_PSY_TFIDF)"
   ]
  },
  {
   "cell_type": "code",
   "execution_count": 51,
   "metadata": {},
   "outputs": [
    {
     "data": {
      "text/plain": [
       "(521, 50)"
      ]
     },
     "execution_count": 51,
     "metadata": {},
     "output_type": "execute_result"
    }
   ],
   "source": [
    "PHY_PSY_SVD.shape"
   ]
  },
  {
   "cell_type": "code",
   "execution_count": 52,
   "metadata": {},
   "outputs": [
    {
     "data": {
      "text/plain": [
       "0.31069870541427197"
      ]
     },
     "execution_count": 52,
     "metadata": {},
     "output_type": "execute_result"
    }
   ],
   "source": [
    "sum(svd.explained_variance_)"
   ]
  },
  {
   "cell_type": "code",
   "execution_count": 93,
   "metadata": {},
   "outputs": [],
   "source": [
    "def kmeans_wrapper(svd_data, deterministic=True):\n",
    "    k_means = KMeans(n_clusters=2, random_state=0).fit(svd_data)\n",
    "    if not deterministic:\n",
    "        k_means = KMeans(n_clusters=2).fit(svd_data)\n",
    "    k_labels = k_means.labels_\n",
    "    k_centers = k_means.cluster_centers_\n",
    "    k_probas = labels_to_probas(k_centers, k_labels, svd_data)\n",
    "    #k_probas = k_labels\n",
    "    return k_probas, k_labels\n"
   ]
  },
  {
   "cell_type": "code",
   "execution_count": 71,
   "metadata": {},
   "outputs": [
    {
     "data": {
      "image/png": "[encoded data removed]",
      "text/plain": [
       "<Figure size 460.8x403.2 with 1 Axes>"
      ]
     },
     "metadata": {},
     "output_type": "display_data"
    }
   ],
   "source": [
    "probas_PHY_PSY, labels_PHY_PSY = kmeans_wrapper(PHY_PSY_SVD)\n",
    "roc_curve_wrapper(y_data, probas_PHY_PSY)"
   ]
  },
  {
   "cell_type": "markdown",
   "metadata": {},
   "source": [
    "Les résultats ne se sont pas améliorés. Il semble que l'agglomération est meilleure en gardant l'information sur tous les cours qu'en ne gardant que l'information spécfique aux cours PHY et PSY."
   ]
  },
  {
   "cell_type": "markdown",
   "metadata": {},
   "source": [
    "Calculs de la précision et du score F1 pour les deux approches:"
   ]
  },
  {
   "cell_type": "code",
   "execution_count": 88,
   "metadata": {},
   "outputs": [
    {
     "name": "stdout",
     "output_type": "stream",
     "text": [
      "precision for all data: 0.770042194092827\n",
      "F1 score for all data: 0.8286038592508512\n"
     ]
    }
   ],
   "source": [
    "from sklearn.metrics import precision_score\n",
    "from sklearn.metrics import f1_score\n",
    "\n",
    "print(\"precision for all data: \" + str(precision_score(y_data, labels)))\n",
    "print(\"F1 score for all data: \" + str(f1_score(y_data, labels)))"
   ]
  },
  {
   "cell_type": "code",
   "execution_count": 89,
   "metadata": {},
   "outputs": [
    {
     "name": "stdout",
     "output_type": "stream",
     "text": [
      "precision for only PHY and PSY courses: 0.7714884696016772\n",
      "F1 score for only PHY and PSY courses: 0.832579185520362\n"
     ]
    }
   ],
   "source": [
    "print(\"precision for only PHY and PSY courses: \" + str(precision_score(y_data, labels_PHY_PSY)))\n",
    "print(\"F1 score for only PHY and PSY courses: \" + str(f1_score(y_data, labels_PHY_PSY)))"
   ]
  },
  {
   "cell_type": "markdown",
   "metadata": {},
   "source": [
    "Contrairement à l'AUC, la précision et le score F1 sont très semblables pour les deux approches. "
   ]
  },
  {
   "cell_type": "markdown",
   "metadata": {},
   "source": [
    "## 4. À partir de la validation croisée de la tâche de classification ci-dessus, déterminez le nombre de dimensions latentes optimal de SVD selon une approche dite wrapper (4 pts.).\n",
    "\n",
    "Nous allons maintenant essayer d'améliorer les résultats en utilisant une réduction de dimension. Pour commencer, effectuez une réduction de dimensions à 50 facteurs latents et faites l'agglomération sur la matrice ainsi réduite. Puis refaites les calculs de la question 3. Et finalement, itérez sur différentes nombres de facteurs latents pour identifier la valeur optimale. Elle devrait se situer aux alentours de 20 et donner un AUC nettement supérieur à celui de la question 3.\n"
   ]
  },
  {
   "cell_type": "code",
   "execution_count": 95,
   "metadata": {},
   "outputs": [],
   "source": [
    "def kmeans_AUC_for_n_dimensions(n_dimensions=50, use_all_data=True, kmeans_deterministic=True):\n",
    "    svd = TruncatedSVD(n_components=n_dimensions, algorithm='randomized', n_iter=50)\n",
    "    \n",
    "    if use_all_data:\n",
    "        svd.fit(IDF_data)\n",
    "        svd_matrix_all = svd.transform(IDF_data)\n",
    "        svd_matrix = retrieve_PHY_PSY(svd_matrix_all)\n",
    "    else:\n",
    "        svd.fit(PHY_PSY_TFIDF)\n",
    "        svd_matrix = svd.transform(PHY_PSY_TFIDF)\n",
    "    \n",
    "    predictions, _ = kmeans_wrapper(svd_matrix, deterministic=kmeans_deterministic)\n",
    "    \n",
    "    false_positive_rate, true_positive_rate, threshold = roc_curve(y_data, predictions)\n",
    "    roc_auc = auc(false_positive_rate, true_positive_rate)\n",
    "    \n",
    "    if roc_auc < 0.5:\n",
    "        predictions = reverse_predictions(predictions)\n",
    "        false_positive_rate, true_positive_rate, threshold = roc_curve(y_data, predictions)\n",
    "        roc_auc = auc(false_positive_rate, true_positive_rate)\n",
    "        \n",
    "    return roc_auc\n",
    "    "
   ]
  },
  {
   "cell_type": "code",
   "execution_count": 57,
   "metadata": {},
   "outputs": [
    {
     "data": {
      "text/plain": [
       "0.6251993620414673"
      ]
     },
     "execution_count": 57,
     "metadata": {},
     "output_type": "execute_result"
    }
   ],
   "source": [
    "# test \n",
    "kmeans_AUC_for_n_dimensions()"
   ]
  },
  {
   "cell_type": "code",
   "execution_count": 58,
   "metadata": {},
   "outputs": [
    {
     "name": "stdout",
     "output_type": "stream",
     "text": [
      "dimensions: 195\r"
     ]
    }
   ],
   "source": [
    "aucs_all = []\n",
    "dims_all = []\n",
    "for n_dim in range(5, 200, 5):\n",
    "    aucs_all.append(kmeans_AUC_for_n_dimensions(n_dimensions=n_dim))\n",
    "    dims_all.append(n_dim)\n",
    "    print(\"dimensions: \" + str(n_dim), end='\\r')"
   ]
  },
  {
   "cell_type": "code",
   "execution_count": 59,
   "metadata": {},
   "outputs": [],
   "source": [
    "def plot_AUC_dim(auc_list, dims_list):\n",
    "    plt.plot(dims_list, auc_list, 'g')\n",
    "    plt.legend()\n",
    "    plt.ylabel('AUC')\n",
    "    plt.xlabel('Nombre de dimensions')\n",
    "    plt.title('AUC selon le nombre de dimensions')\n",
    "    plt.show()"
   ]
  },
  {
   "cell_type": "code",
   "execution_count": 72,
   "metadata": {},
   "outputs": [
    {
     "name": "stderr",
     "output_type": "stream",
     "text": [
      "No handles with labels found to put in legend.\n"
     ]
    },
    {
     "data": {
      "image/png": "[encoded data removed]",
      "text/plain": [
       "<Figure size 460.8x403.2 with 1 Axes>"
      ]
     },
     "metadata": {},
     "output_type": "display_data"
    }
   ],
   "source": [
    "plot_AUC_dim(aucs_all, dims_all)"
   ]
  },
  {
   "cell_type": "markdown",
   "metadata": {},
   "source": [
    "Le nombre de dimensions latentes optimal semble se situer autour de 75 dimensions."
   ]
  },
  {
   "cell_type": "markdown",
   "metadata": {},
   "source": [
    "Nous allons refaire l'expérience mais uniquement avec les données des cours PHY et PSY."
   ]
  },
  {
   "cell_type": "code",
   "execution_count": 91,
   "metadata": {},
   "outputs": [
    {
     "name": "stdout",
     "output_type": "stream",
     "text": [
      "dimensions: 195\r"
     ]
    }
   ],
   "source": [
    "aucs = []\n",
    "dims = []\n",
    "for n_dim in range(5, 200, 5):\n",
    "    aucs.append(kmeans_AUC_for_n_dimensions(n_dimensions=n_dim, use_all_data=False))\n",
    "    dims.append(n_dim)\n",
    "    print(\"dimensions: \" + str(n_dim), end='\\r')"
   ]
  },
  {
   "cell_type": "code",
   "execution_count": 92,
   "metadata": {},
   "outputs": [
    {
     "name": "stderr",
     "output_type": "stream",
     "text": [
      "No handles with labels found to put in legend.\n"
     ]
    },
    {
     "data": {
      "image/png": "[encoded data removed]",
      "text/plain": [
       "<Figure size 460.8x403.2 with 1 Axes>"
      ]
     },
     "metadata": {},
     "output_type": "display_data"
    }
   ],
   "source": [
    "plot_AUC_dim(aucs, dims)"
   ]
  },
  {
   "cell_type": "markdown",
   "metadata": {},
   "source": [
    "Contrairement à l'approche précédente, celle-ci donne des résultats douteux. On remarque une fenêtre très fine autour de 40 dimensions qui donnerait un AUC au dessus de 0.9. De plus, deux autres intervalles un peu plus grands semblent donner des résultats similaires entre 100 et 125 dimensions et entre environ 130 et 155 dimensions.\n",
    "\n",
    "Nous allons refaire des calculs plus précis que la première fenêtre afin de s'assurer que ce n'est pas une exécution de kmeans exceptionnelle. Nous nous attardons sur ce pic plutôt que les autres car pouvoir utiliser que 40 dimensions indiquerait de meilleurs résultats que d'en nécessiter 100 et plus."
   ]
  },
  {
   "cell_type": "code",
   "execution_count": 63,
   "metadata": {},
   "outputs": [
    {
     "name": "stdout",
     "output_type": "stream",
     "text": [
      "dimensions: 49\r"
     ]
    }
   ],
   "source": [
    "aucs = []\n",
    "dims = []\n",
    "for n_dim in range(30, 50):\n",
    "    aucs.append(kmeans_AUC_for_n_dimensions(n_dimensions=n_dim, use_all_data=False))\n",
    "    dims.append(n_dim)\n",
    "    print(\"dimensions: \" + str(n_dim), end='\\r')"
   ]
  },
  {
   "cell_type": "code",
   "execution_count": 74,
   "metadata": {},
   "outputs": [
    {
     "name": "stderr",
     "output_type": "stream",
     "text": [
      "No handles with labels found to put in legend.\n"
     ]
    },
    {
     "data": {
      "image/png": "[encoded data removed]",
      "text/plain": [
       "<Figure size 460.8x403.2 with 1 Axes>"
      ]
     },
     "metadata": {},
     "output_type": "display_data"
    }
   ],
   "source": [
    "plot_AUC_dim(aucs, dims)"
   ]
  },
  {
   "cell_type": "markdown",
   "metadata": {},
   "source": [
    "Avec les deux points de 38 et 40 dimensions latentes donnant des résultats similaires, il reste difficile d'affirmer que ce n'est pas des centroïdes de départ chanceux de kmeans. \n",
    "\n",
    "Nous allons refaire les calculs autour de 39 dimensions en utilisant kmeans de façon non-déterministe et comparer les résultats."
   ]
  },
  {
   "cell_type": "code",
   "execution_count": 98,
   "metadata": {},
   "outputs": [
    {
     "name": "stdout",
     "output_type": "stream",
     "text": [
      "dimensions: 49\r"
     ]
    }
   ],
   "source": [
    "aucs = []\n",
    "dims = []\n",
    "for n_dim in range(30, 50):\n",
    "    aucs.append(kmeans_AUC_for_n_dimensions(n_dimensions=n_dim, use_all_data=False, kmeans_deterministic=False))\n",
    "    dims.append(n_dim)\n",
    "    print(\"dimensions: \" + str(n_dim), end='\\r')"
   ]
  },
  {
   "cell_type": "code",
   "execution_count": 99,
   "metadata": {},
   "outputs": [
    {
     "name": "stderr",
     "output_type": "stream",
     "text": [
      "No handles with labels found to put in legend.\n"
     ]
    },
    {
     "data": {
      "image/png": "[encoded data removed]",
      "text/plain": [
       "<Figure size 460.8x403.2 with 1 Axes>"
      ]
     },
     "metadata": {},
     "output_type": "display_data"
    }
   ],
   "source": [
    "plot_AUC_dim(aucs, dims)"
   ]
  },
  {
   "cell_type": "markdown",
   "metadata": {},
   "source": [
    "On remarque effectivement que pour ces exécutions, les résutlats sont forts différents. Cela indique qu'il aurait plutôt fallu exécuter kmeans plusieurs fois et prendre l'AUC moyen de plusieurs exécutions."
   ]
  },
  {
   "cell_type": "code",
   "execution_count": 100,
   "metadata": {},
   "outputs": [
    {
     "name": "stdout",
     "output_type": "stream",
     "text": [
      "dimensions: 49\r"
     ]
    }
   ],
   "source": [
    "aucs = []\n",
    "dims = []\n",
    "\n",
    "n_execs = 5\n",
    "\n",
    "for n_dim in range(30, 50):\n",
    "    auc_mult = []\n",
    "    for i in range(n_execs):\n",
    "        auc_mult.append(kmeans_AUC_for_n_dimensions(n_dimensions=n_dim, use_all_data=False, kmeans_deterministic=False))\n",
    "    auc_mean = sum(auc_mult)/n_execs\n",
    "    \n",
    "    aucs.append(auc_mean)\n",
    "    dims.append(n_dim)\n",
    "    print(\"dimensions: \" + str(n_dim), end='\\r')"
   ]
  },
  {
   "cell_type": "code",
   "execution_count": 101,
   "metadata": {},
   "outputs": [
    {
     "name": "stderr",
     "output_type": "stream",
     "text": [
      "No handles with labels found to put in legend.\n"
     ]
    },
    {
     "data": {
      "image/png": "[encoded data removed]",
      "text/plain": [
       "<Figure size 460.8x403.2 with 1 Axes>"
      ]
     },
     "metadata": {},
     "output_type": "display_data"
    }
   ],
   "source": [
    "plot_AUC_dim(aucs, dims)"
   ]
  },
  {
   "cell_type": "markdown",
   "metadata": {},
   "source": [
    "En conclusion, il est difficile de déterminer le bon nombre de dimensions latentes pour cette approche en particulier. Même en exécutant plusieurs fois kmeans, l'AUC varie énormément selon les centroïdes de départ.\n",
    "\n",
    "Avec plus de temps / de meilleures ressources matérielles permettant d'accélérer les calculs, il serait intéressant de refaire l'expérience pour tous les points et en exécutant kmeans encore plus de fois pour chacun des points afin d'obtenir des résultats plus précis.\n",
    "\n",
    "Par contre, l'autre approche en utilisant le jeu de données complet donne des résultats beaucoup plus facile à interpréter, avec 75 dimensions latentes qui semble être le nombre optimal."
   ]
  }
 ],
 "metadata": {
  "kernelspec": {
   "display_name": "Python 3",
   "language": "python",
   "name": "python3"
  },
  "language_info": {
   "codemirror_mode": {
    "name": "ipython",
    "version": 3
   },
   "file_extension": ".py",
   "mimetype": "text/x-python",
   "name": "python",
   "nbconvert_exporter": "python",
   "pygments_lexer": "ipython3",
   "version": "3.7.4"
  }
 },
 "nbformat": 4,
 "nbformat_minor": 2
}
